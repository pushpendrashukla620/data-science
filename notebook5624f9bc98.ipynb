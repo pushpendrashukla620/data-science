{
 "cells": [
  {
   "cell_type": "code",
   "execution_count": 1,
   "id": "c435db1b",
   "metadata": {
    "execution": {
     "iopub.execute_input": "2022-07-03T07:48:51.897016Z",
     "iopub.status.busy": "2022-07-03T07:48:51.896019Z",
     "iopub.status.idle": "2022-07-03T07:48:52.654093Z",
     "shell.execute_reply": "2022-07-03T07:48:52.652933Z"
    },
    "papermill": {
     "duration": 0.77092,
     "end_time": "2022-07-03T07:48:52.657138",
     "exception": false,
     "start_time": "2022-07-03T07:48:51.886218",
     "status": "completed"
    },
    "tags": []
   },
   "outputs": [],
   "source": [
    "#Import Pandas\n",
    "import pandas as pd\n",
    "\n",
    "#Loading the data\n",
    "df = pd.read_csv(\"https://archive.ics.uci.edu/ml/machine-learning-databases/iris/iris.data\", header=None)\n",
    "df.columns = ['sl','sw','pl','pw','flower_type']"
   ]
  },
  {
   "cell_type": "code",
   "execution_count": 2,
   "id": "15103c2c",
   "metadata": {
    "execution": {
     "iopub.execute_input": "2022-07-03T07:48:52.672956Z",
     "iopub.status.busy": "2022-07-03T07:48:52.672230Z",
     "iopub.status.idle": "2022-07-03T07:48:52.693581Z",
     "shell.execute_reply": "2022-07-03T07:48:52.692653Z"
    },
    "papermill": {
     "duration": 0.031775,
     "end_time": "2022-07-03T07:48:52.695822",
     "exception": false,
     "start_time": "2022-07-03T07:48:52.664047",
     "status": "completed"
    },
    "tags": []
   },
   "outputs": [
    {
     "data": {
      "text/html": [
       "<div>\n",
       "<style scoped>\n",
       "    .dataframe tbody tr th:only-of-type {\n",
       "        vertical-align: middle;\n",
       "    }\n",
       "\n",
       "    .dataframe tbody tr th {\n",
       "        vertical-align: top;\n",
       "    }\n",
       "\n",
       "    .dataframe thead th {\n",
       "        text-align: right;\n",
       "    }\n",
       "</style>\n",
       "<table border=\"1\" class=\"dataframe\">\n",
       "  <thead>\n",
       "    <tr style=\"text-align: right;\">\n",
       "      <th></th>\n",
       "      <th>sl</th>\n",
       "      <th>sw</th>\n",
       "      <th>pl</th>\n",
       "      <th>pw</th>\n",
       "      <th>flower_type</th>\n",
       "    </tr>\n",
       "  </thead>\n",
       "  <tbody>\n",
       "    <tr>\n",
       "      <th>0</th>\n",
       "      <td>5.1</td>\n",
       "      <td>3.5</td>\n",
       "      <td>1.4</td>\n",
       "      <td>0.2</td>\n",
       "      <td>Iris-setosa</td>\n",
       "    </tr>\n",
       "    <tr>\n",
       "      <th>1</th>\n",
       "      <td>4.9</td>\n",
       "      <td>3.0</td>\n",
       "      <td>1.4</td>\n",
       "      <td>0.2</td>\n",
       "      <td>Iris-setosa</td>\n",
       "    </tr>\n",
       "    <tr>\n",
       "      <th>2</th>\n",
       "      <td>4.7</td>\n",
       "      <td>3.2</td>\n",
       "      <td>1.3</td>\n",
       "      <td>0.2</td>\n",
       "      <td>Iris-setosa</td>\n",
       "    </tr>\n",
       "    <tr>\n",
       "      <th>3</th>\n",
       "      <td>4.6</td>\n",
       "      <td>3.1</td>\n",
       "      <td>1.5</td>\n",
       "      <td>0.2</td>\n",
       "      <td>Iris-setosa</td>\n",
       "    </tr>\n",
       "    <tr>\n",
       "      <th>4</th>\n",
       "      <td>5.0</td>\n",
       "      <td>3.6</td>\n",
       "      <td>1.4</td>\n",
       "      <td>0.2</td>\n",
       "      <td>Iris-setosa</td>\n",
       "    </tr>\n",
       "  </tbody>\n",
       "</table>\n",
       "</div>"
      ],
      "text/plain": [
       "    sl   sw   pl   pw  flower_type\n",
       "0  5.1  3.5  1.4  0.2  Iris-setosa\n",
       "1  4.9  3.0  1.4  0.2  Iris-setosa\n",
       "2  4.7  3.2  1.3  0.2  Iris-setosa\n",
       "3  4.6  3.1  1.5  0.2  Iris-setosa\n",
       "4  5.0  3.6  1.4  0.2  Iris-setosa"
      ]
     },
     "execution_count": 2,
     "metadata": {},
     "output_type": "execute_result"
    }
   ],
   "source": [
    "iris = df.copy()\n",
    "iris.head()"
   ]
  },
  {
   "cell_type": "code",
   "execution_count": 3,
   "id": "1cf56742",
   "metadata": {
    "execution": {
     "iopub.execute_input": "2022-07-03T07:48:52.711797Z",
     "iopub.status.busy": "2022-07-03T07:48:52.711108Z",
     "iopub.status.idle": "2022-07-03T07:48:52.717517Z",
     "shell.execute_reply": "2022-07-03T07:48:52.716540Z"
    },
    "papermill": {
     "duration": 0.016781,
     "end_time": "2022-07-03T07:48:52.719664",
     "exception": false,
     "start_time": "2022-07-03T07:48:52.702883",
     "status": "completed"
    },
    "tags": []
   },
   "outputs": [
    {
     "data": {
      "text/plain": [
       "Index(['sl', 'sw', 'pl', 'pw', 'flower_type'], dtype='object')"
      ]
     },
     "execution_count": 3,
     "metadata": {},
     "output_type": "execute_result"
    }
   ],
   "source": [
    "#To get the column names use columns attribute\n",
    "\n",
    "iris.columns"
   ]
  },
  {
   "cell_type": "code",
   "execution_count": 4,
   "id": "0ec19d9e",
   "metadata": {
    "execution": {
     "iopub.execute_input": "2022-07-03T07:48:52.735643Z",
     "iopub.status.busy": "2022-07-03T07:48:52.734886Z",
     "iopub.status.idle": "2022-07-03T07:48:52.740488Z",
     "shell.execute_reply": "2022-07-03T07:48:52.739779Z"
    },
    "papermill": {
     "duration": 0.015801,
     "end_time": "2022-07-03T07:48:52.742435",
     "exception": false,
     "start_time": "2022-07-03T07:48:52.726634",
     "status": "completed"
    },
    "tags": []
   },
   "outputs": [
    {
     "data": {
      "text/plain": [
       "RangeIndex(start=0, stop=150, step=1)"
      ]
     },
     "execution_count": 4,
     "metadata": {},
     "output_type": "execute_result"
    }
   ],
   "source": [
    "#To get the indexs of the dataframe, index attribute is used\n",
    "\n",
    "iris.index"
   ]
  },
  {
   "cell_type": "code",
   "execution_count": 5,
   "id": "09fb5010",
   "metadata": {
    "execution": {
     "iopub.execute_input": "2022-07-03T07:48:52.758229Z",
     "iopub.status.busy": "2022-07-03T07:48:52.757830Z",
     "iopub.status.idle": "2022-07-03T07:48:52.774256Z",
     "shell.execute_reply": "2022-07-03T07:48:52.773450Z"
    },
    "papermill": {
     "duration": 0.026809,
     "end_time": "2022-07-03T07:48:52.776232",
     "exception": false,
     "start_time": "2022-07-03T07:48:52.749423",
     "status": "completed"
    },
    "tags": []
   },
   "outputs": [
    {
     "data": {
      "text/html": [
       "<div>\n",
       "<style scoped>\n",
       "    .dataframe tbody tr th:only-of-type {\n",
       "        vertical-align: middle;\n",
       "    }\n",
       "\n",
       "    .dataframe tbody tr th {\n",
       "        vertical-align: top;\n",
       "    }\n",
       "\n",
       "    .dataframe thead th {\n",
       "        text-align: right;\n",
       "    }\n",
       "</style>\n",
       "<table border=\"1\" class=\"dataframe\">\n",
       "  <thead>\n",
       "    <tr style=\"text-align: right;\">\n",
       "      <th></th>\n",
       "      <th>sl</th>\n",
       "      <th>sw</th>\n",
       "      <th>pl</th>\n",
       "      <th>pw</th>\n",
       "      <th>flower_type</th>\n",
       "    </tr>\n",
       "  </thead>\n",
       "  <tbody>\n",
       "    <tr>\n",
       "      <th>0</th>\n",
       "      <td>5.1</td>\n",
       "      <td>3.5</td>\n",
       "      <td>1.4</td>\n",
       "      <td>0.2</td>\n",
       "      <td>Iris-setosa</td>\n",
       "    </tr>\n",
       "    <tr>\n",
       "      <th>1</th>\n",
       "      <td>4.9</td>\n",
       "      <td>3.0</td>\n",
       "      <td>1.4</td>\n",
       "      <td>0.2</td>\n",
       "      <td>Iris-setosa</td>\n",
       "    </tr>\n",
       "    <tr>\n",
       "      <th>2</th>\n",
       "      <td>4.7</td>\n",
       "      <td>3.2</td>\n",
       "      <td>1.3</td>\n",
       "      <td>0.2</td>\n",
       "      <td>Iris-setosa</td>\n",
       "    </tr>\n",
       "    <tr>\n",
       "      <th>3</th>\n",
       "      <td>4.6</td>\n",
       "      <td>3.1</td>\n",
       "      <td>1.5</td>\n",
       "      <td>0.2</td>\n",
       "      <td>Iris-setosa</td>\n",
       "    </tr>\n",
       "    <tr>\n",
       "      <th>4</th>\n",
       "      <td>5.0</td>\n",
       "      <td>3.6</td>\n",
       "      <td>1.4</td>\n",
       "      <td>0.2</td>\n",
       "      <td>Iris-setosa</td>\n",
       "    </tr>\n",
       "  </tbody>\n",
       "</table>\n",
       "</div>"
      ],
      "text/plain": [
       "    sl   sw   pl   pw  flower_type\n",
       "0  5.1  3.5  1.4  0.2  Iris-setosa\n",
       "1  4.9  3.0  1.4  0.2  Iris-setosa\n",
       "2  4.7  3.2  1.3  0.2  Iris-setosa\n",
       "3  4.6  3.1  1.5  0.2  Iris-setosa\n",
       "4  5.0  3.6  1.4  0.2  Iris-setosa"
      ]
     },
     "execution_count": 5,
     "metadata": {},
     "output_type": "execute_result"
    }
   ],
   "source": [
    "# drop() function is used to delete a row from the dataset\n",
    "iris.drop(0)\n",
    "iris.head()"
   ]
  },
  {
   "cell_type": "code",
   "execution_count": 6,
   "id": "7c859780",
   "metadata": {
    "execution": {
     "iopub.execute_input": "2022-07-03T07:48:52.792839Z",
     "iopub.status.busy": "2022-07-03T07:48:52.792115Z",
     "iopub.status.idle": "2022-07-03T07:48:52.806246Z",
     "shell.execute_reply": "2022-07-03T07:48:52.805342Z"
    },
    "papermill": {
     "duration": 0.025277,
     "end_time": "2022-07-03T07:48:52.808767",
     "exception": false,
     "start_time": "2022-07-03T07:48:52.783490",
     "status": "completed"
    },
    "tags": []
   },
   "outputs": [
    {
     "data": {
      "text/html": [
       "<div>\n",
       "<style scoped>\n",
       "    .dataframe tbody tr th:only-of-type {\n",
       "        vertical-align: middle;\n",
       "    }\n",
       "\n",
       "    .dataframe tbody tr th {\n",
       "        vertical-align: top;\n",
       "    }\n",
       "\n",
       "    .dataframe thead th {\n",
       "        text-align: right;\n",
       "    }\n",
       "</style>\n",
       "<table border=\"1\" class=\"dataframe\">\n",
       "  <thead>\n",
       "    <tr style=\"text-align: right;\">\n",
       "      <th></th>\n",
       "      <th>sl</th>\n",
       "      <th>sw</th>\n",
       "      <th>pl</th>\n",
       "      <th>pw</th>\n",
       "      <th>flower_type</th>\n",
       "    </tr>\n",
       "  </thead>\n",
       "  <tbody>\n",
       "    <tr>\n",
       "      <th>1</th>\n",
       "      <td>4.9</td>\n",
       "      <td>3.0</td>\n",
       "      <td>1.4</td>\n",
       "      <td>0.2</td>\n",
       "      <td>Iris-setosa</td>\n",
       "    </tr>\n",
       "    <tr>\n",
       "      <th>2</th>\n",
       "      <td>4.7</td>\n",
       "      <td>3.2</td>\n",
       "      <td>1.3</td>\n",
       "      <td>0.2</td>\n",
       "      <td>Iris-setosa</td>\n",
       "    </tr>\n",
       "    <tr>\n",
       "      <th>3</th>\n",
       "      <td>4.6</td>\n",
       "      <td>3.1</td>\n",
       "      <td>1.5</td>\n",
       "      <td>0.2</td>\n",
       "      <td>Iris-setosa</td>\n",
       "    </tr>\n",
       "    <tr>\n",
       "      <th>4</th>\n",
       "      <td>5.0</td>\n",
       "      <td>3.6</td>\n",
       "      <td>1.4</td>\n",
       "      <td>0.2</td>\n",
       "      <td>Iris-setosa</td>\n",
       "    </tr>\n",
       "    <tr>\n",
       "      <th>5</th>\n",
       "      <td>5.4</td>\n",
       "      <td>3.9</td>\n",
       "      <td>1.7</td>\n",
       "      <td>0.4</td>\n",
       "      <td>Iris-setosa</td>\n",
       "    </tr>\n",
       "  </tbody>\n",
       "</table>\n",
       "</div>"
      ],
      "text/plain": [
       "    sl   sw   pl   pw  flower_type\n",
       "1  4.9  3.0  1.4  0.2  Iris-setosa\n",
       "2  4.7  3.2  1.3  0.2  Iris-setosa\n",
       "3  4.6  3.1  1.5  0.2  Iris-setosa\n",
       "4  5.0  3.6  1.4  0.2  Iris-setosa\n",
       "5  5.4  3.9  1.7  0.4  Iris-setosa"
      ]
     },
     "execution_count": 6,
     "metadata": {},
     "output_type": "execute_result"
    }
   ],
   "source": [
    "#No changes have been made because drop function does not delete the rows from the original dataframe. \n",
    "#It creates a copy of the dataframe and returns the updated copy\n",
    "\n",
    "#To make changes in the original dataframe we need to pass a inplace=True argument. This ensures that the changes are made \n",
    "#in the original dataset\n",
    "\n",
    "iris.drop(0, inplace=True)\n",
    "iris.head()"
   ]
  },
  {
   "cell_type": "code",
   "execution_count": 7,
   "id": "285b8cc6",
   "metadata": {
    "execution": {
     "iopub.execute_input": "2022-07-03T07:48:52.826205Z",
     "iopub.status.busy": "2022-07-03T07:48:52.825530Z",
     "iopub.status.idle": "2022-07-03T07:48:52.846886Z",
     "shell.execute_reply": "2022-07-03T07:48:52.846076Z"
    },
    "papermill": {
     "duration": 0.032678,
     "end_time": "2022-07-03T07:48:52.849078",
     "exception": false,
     "start_time": "2022-07-03T07:48:52.816400",
     "status": "completed"
    },
    "tags": []
   },
   "outputs": [
    {
     "data": {
      "text/html": [
       "<div>\n",
       "<style scoped>\n",
       "    .dataframe tbody tr th:only-of-type {\n",
       "        vertical-align: middle;\n",
       "    }\n",
       "\n",
       "    .dataframe tbody tr th {\n",
       "        vertical-align: top;\n",
       "    }\n",
       "\n",
       "    .dataframe thead th {\n",
       "        text-align: right;\n",
       "    }\n",
       "</style>\n",
       "<table border=\"1\" class=\"dataframe\">\n",
       "  <thead>\n",
       "    <tr style=\"text-align: right;\">\n",
       "      <th></th>\n",
       "      <th>sl</th>\n",
       "      <th>sw</th>\n",
       "      <th>pl</th>\n",
       "      <th>pw</th>\n",
       "      <th>flower_type</th>\n",
       "    </tr>\n",
       "  </thead>\n",
       "  <tbody>\n",
       "    <tr>\n",
       "      <th>1</th>\n",
       "      <td>4.9</td>\n",
       "      <td>3.0</td>\n",
       "      <td>1.4</td>\n",
       "      <td>0.2</td>\n",
       "      <td>Iris-setosa</td>\n",
       "    </tr>\n",
       "    <tr>\n",
       "      <th>2</th>\n",
       "      <td>4.7</td>\n",
       "      <td>3.2</td>\n",
       "      <td>1.3</td>\n",
       "      <td>0.2</td>\n",
       "      <td>Iris-setosa</td>\n",
       "    </tr>\n",
       "    <tr>\n",
       "      <th>3</th>\n",
       "      <td>4.6</td>\n",
       "      <td>3.1</td>\n",
       "      <td>1.5</td>\n",
       "      <td>0.2</td>\n",
       "      <td>Iris-setosa</td>\n",
       "    </tr>\n",
       "    <tr>\n",
       "      <th>6</th>\n",
       "      <td>4.6</td>\n",
       "      <td>3.4</td>\n",
       "      <td>1.4</td>\n",
       "      <td>0.3</td>\n",
       "      <td>Iris-setosa</td>\n",
       "    </tr>\n",
       "    <tr>\n",
       "      <th>7</th>\n",
       "      <td>5.0</td>\n",
       "      <td>3.4</td>\n",
       "      <td>1.5</td>\n",
       "      <td>0.2</td>\n",
       "      <td>Iris-setosa</td>\n",
       "    </tr>\n",
       "    <tr>\n",
       "      <th>9</th>\n",
       "      <td>4.9</td>\n",
       "      <td>3.1</td>\n",
       "      <td>1.5</td>\n",
       "      <td>0.1</td>\n",
       "      <td>Iris-setosa</td>\n",
       "    </tr>\n",
       "    <tr>\n",
       "      <th>10</th>\n",
       "      <td>5.4</td>\n",
       "      <td>3.7</td>\n",
       "      <td>1.5</td>\n",
       "      <td>0.2</td>\n",
       "      <td>Iris-setosa</td>\n",
       "    </tr>\n",
       "    <tr>\n",
       "      <th>11</th>\n",
       "      <td>4.8</td>\n",
       "      <td>3.4</td>\n",
       "      <td>1.6</td>\n",
       "      <td>0.2</td>\n",
       "      <td>Iris-setosa</td>\n",
       "    </tr>\n",
       "    <tr>\n",
       "      <th>12</th>\n",
       "      <td>4.8</td>\n",
       "      <td>3.0</td>\n",
       "      <td>1.4</td>\n",
       "      <td>0.1</td>\n",
       "      <td>Iris-setosa</td>\n",
       "    </tr>\n",
       "    <tr>\n",
       "      <th>13</th>\n",
       "      <td>4.3</td>\n",
       "      <td>3.0</td>\n",
       "      <td>1.1</td>\n",
       "      <td>0.1</td>\n",
       "      <td>Iris-setosa</td>\n",
       "    </tr>\n",
       "  </tbody>\n",
       "</table>\n",
       "</div>"
      ],
      "text/plain": [
       "     sl   sw   pl   pw  flower_type\n",
       "1   4.9  3.0  1.4  0.2  Iris-setosa\n",
       "2   4.7  3.2  1.3  0.2  Iris-setosa\n",
       "3   4.6  3.1  1.5  0.2  Iris-setosa\n",
       "6   4.6  3.4  1.4  0.3  Iris-setosa\n",
       "7   5.0  3.4  1.5  0.2  Iris-setosa\n",
       "9   4.9  3.1  1.5  0.1  Iris-setosa\n",
       "10  5.4  3.7  1.5  0.2  Iris-setosa\n",
       "11  4.8  3.4  1.6  0.2  Iris-setosa\n",
       "12  4.8  3.0  1.4  0.1  Iris-setosa\n",
       "13  4.3  3.0  1.1  0.1  Iris-setosa"
      ]
     },
     "execution_count": 7,
     "metadata": {},
     "output_type": "execute_result"
    }
   ],
   "source": [
    "#To delete more than one columns in one go, we can pass a list of row numbers\n",
    "\n",
    "iris.drop([4,5,8], inplace=True)\n",
    "\n",
    "iris.head(10)"
   ]
  },
  {
   "cell_type": "code",
   "execution_count": 8,
   "id": "9d845cce",
   "metadata": {
    "execution": {
     "iopub.execute_input": "2022-07-03T07:48:52.866877Z",
     "iopub.status.busy": "2022-07-03T07:48:52.866146Z",
     "iopub.status.idle": "2022-07-03T07:48:52.890678Z",
     "shell.execute_reply": "2022-07-03T07:48:52.889599Z"
    },
    "papermill": {
     "duration": 0.036328,
     "end_time": "2022-07-03T07:48:52.893311",
     "exception": false,
     "start_time": "2022-07-03T07:48:52.856983",
     "status": "completed"
    },
    "tags": []
   },
   "outputs": [
    {
     "name": "stdout",
     "output_type": "stream",
     "text": [
      "      sl   sw   pl   pw     flower_type\n",
      "1    4.9  3.0  1.4  0.2     Iris-setosa\n",
      "2    4.7  3.2  1.3  0.2     Iris-setosa\n",
      "3    4.6  3.1  1.5  0.2     Iris-setosa\n",
      "6    4.6  3.4  1.4  0.3     Iris-setosa\n",
      "7    5.0  3.4  1.5  0.2     Iris-setosa\n",
      "..   ...  ...  ...  ...             ...\n",
      "145  6.7  3.0  5.2  2.3  Iris-virginica\n",
      "146  6.3  2.5  5.0  1.9  Iris-virginica\n",
      "147  6.5  3.0  5.2  2.0  Iris-virginica\n",
      "148  6.2  3.4  5.4  2.3  Iris-virginica\n",
      "149  5.9  3.0  5.1  1.8  Iris-virginica\n",
      "\n",
      "[146 rows x 5 columns]\n",
      "Int64Index([  1,   2,   3,   6,   7,   9,  10,  11,  12,  13,\n",
      "            ...\n",
      "            140, 141, 142, 143, 144, 145, 146, 147, 148, 149],\n",
      "           dtype='int64', length=146)\n"
     ]
    },
    {
     "data": {
      "text/html": [
       "<div>\n",
       "<style scoped>\n",
       "    .dataframe tbody tr th:only-of-type {\n",
       "        vertical-align: middle;\n",
       "    }\n",
       "\n",
       "    .dataframe tbody tr th {\n",
       "        vertical-align: top;\n",
       "    }\n",
       "\n",
       "    .dataframe thead th {\n",
       "        text-align: right;\n",
       "    }\n",
       "</style>\n",
       "<table border=\"1\" class=\"dataframe\">\n",
       "  <thead>\n",
       "    <tr style=\"text-align: right;\">\n",
       "      <th></th>\n",
       "      <th>sl</th>\n",
       "      <th>sw</th>\n",
       "      <th>pl</th>\n",
       "      <th>pw</th>\n",
       "      <th>flower_type</th>\n",
       "    </tr>\n",
       "  </thead>\n",
       "  <tbody>\n",
       "    <tr>\n",
       "      <th>2</th>\n",
       "      <td>4.7</td>\n",
       "      <td>3.2</td>\n",
       "      <td>1.3</td>\n",
       "      <td>0.2</td>\n",
       "      <td>Iris-setosa</td>\n",
       "    </tr>\n",
       "    <tr>\n",
       "      <th>3</th>\n",
       "      <td>4.6</td>\n",
       "      <td>3.1</td>\n",
       "      <td>1.5</td>\n",
       "      <td>0.2</td>\n",
       "      <td>Iris-setosa</td>\n",
       "    </tr>\n",
       "    <tr>\n",
       "      <th>6</th>\n",
       "      <td>4.6</td>\n",
       "      <td>3.4</td>\n",
       "      <td>1.4</td>\n",
       "      <td>0.3</td>\n",
       "      <td>Iris-setosa</td>\n",
       "    </tr>\n",
       "    <tr>\n",
       "      <th>7</th>\n",
       "      <td>5.0</td>\n",
       "      <td>3.4</td>\n",
       "      <td>1.5</td>\n",
       "      <td>0.2</td>\n",
       "      <td>Iris-setosa</td>\n",
       "    </tr>\n",
       "    <tr>\n",
       "      <th>9</th>\n",
       "      <td>4.9</td>\n",
       "      <td>3.1</td>\n",
       "      <td>1.5</td>\n",
       "      <td>0.1</td>\n",
       "      <td>Iris-setosa</td>\n",
       "    </tr>\n",
       "    <tr>\n",
       "      <th>10</th>\n",
       "      <td>5.4</td>\n",
       "      <td>3.7</td>\n",
       "      <td>1.5</td>\n",
       "      <td>0.2</td>\n",
       "      <td>Iris-setosa</td>\n",
       "    </tr>\n",
       "    <tr>\n",
       "      <th>11</th>\n",
       "      <td>4.8</td>\n",
       "      <td>3.4</td>\n",
       "      <td>1.6</td>\n",
       "      <td>0.2</td>\n",
       "      <td>Iris-setosa</td>\n",
       "    </tr>\n",
       "    <tr>\n",
       "      <th>12</th>\n",
       "      <td>4.8</td>\n",
       "      <td>3.0</td>\n",
       "      <td>1.4</td>\n",
       "      <td>0.1</td>\n",
       "      <td>Iris-setosa</td>\n",
       "    </tr>\n",
       "    <tr>\n",
       "      <th>13</th>\n",
       "      <td>4.3</td>\n",
       "      <td>3.0</td>\n",
       "      <td>1.1</td>\n",
       "      <td>0.1</td>\n",
       "      <td>Iris-setosa</td>\n",
       "    </tr>\n",
       "    <tr>\n",
       "      <th>14</th>\n",
       "      <td>5.8</td>\n",
       "      <td>4.0</td>\n",
       "      <td>1.2</td>\n",
       "      <td>0.2</td>\n",
       "      <td>Iris-setosa</td>\n",
       "    </tr>\n",
       "  </tbody>\n",
       "</table>\n",
       "</div>"
      ],
      "text/plain": [
       "     sl   sw   pl   pw  flower_type\n",
       "2   4.7  3.2  1.3  0.2  Iris-setosa\n",
       "3   4.6  3.1  1.5  0.2  Iris-setosa\n",
       "6   4.6  3.4  1.4  0.3  Iris-setosa\n",
       "7   5.0  3.4  1.5  0.2  Iris-setosa\n",
       "9   4.9  3.1  1.5  0.1  Iris-setosa\n",
       "10  5.4  3.7  1.5  0.2  Iris-setosa\n",
       "11  4.8  3.4  1.6  0.2  Iris-setosa\n",
       "12  4.8  3.0  1.4  0.1  Iris-setosa\n",
       "13  4.3  3.0  1.1  0.1  Iris-setosa\n",
       "14  5.8  4.0  1.2  0.2  Iris-setosa"
      ]
     },
     "execution_count": 8,
     "metadata": {},
     "output_type": "execute_result"
    }
   ],
   "source": [
    "# index[i] is used to access the ith row and not the row whose row no is i\n",
    "print(iris)\n",
    "\n",
    "print(iris.index)\n",
    "\n",
    "\n",
    "#Therefore iris.index[i] can also be passed to drop function to delete the ith row\n",
    "iris.drop(iris.index[0], inplace=True)\n",
    "iris.head(10)"
   ]
  },
  {
   "cell_type": "code",
   "execution_count": 9,
   "id": "a0834e84",
   "metadata": {
    "execution": {
     "iopub.execute_input": "2022-07-03T07:48:52.911888Z",
     "iopub.status.busy": "2022-07-03T07:48:52.911210Z",
     "iopub.status.idle": "2022-07-03T07:48:52.923412Z",
     "shell.execute_reply": "2022-07-03T07:48:52.922222Z"
    },
    "papermill": {
     "duration": 0.024668,
     "end_time": "2022-07-03T07:48:52.926492",
     "exception": false,
     "start_time": "2022-07-03T07:48:52.901824",
     "status": "completed"
    },
    "tags": []
   },
   "outputs": [
    {
     "name": "stdout",
     "output_type": "stream",
     "text": [
      "    sl   sw   pl   pw  flower_type\n",
      "2  4.7  3.2  1.3  0.2  Iris-setosa\n",
      "3  4.6  3.1  1.5  0.2  Iris-setosa\n",
      "6  4.6  3.4  1.4  0.3  Iris-setosa\n",
      "7  5.0  3.4  1.5  0.2  Iris-setosa\n",
      "9  4.9  3.1  1.5  0.1  Iris-setosa\n"
     ]
    },
    {
     "data": {
      "text/plain": [
       "sl                     4.7\n",
       "sw                     3.2\n",
       "pl                     1.3\n",
       "pw                     0.2\n",
       "flower_type    Iris-setosa\n",
       "Name: 2, dtype: object"
      ]
     },
     "execution_count": 9,
     "metadata": {},
     "output_type": "execute_result"
    }
   ],
   "source": [
    "#to get the ith row from starting we use iloc\n",
    "\n",
    "print(iris.head())\n",
    "iris.iloc[0]"
   ]
  },
  {
   "cell_type": "code",
   "execution_count": 10,
   "id": "cc3715c1",
   "metadata": {
    "execution": {
     "iopub.execute_input": "2022-07-03T07:48:52.945432Z",
     "iopub.status.busy": "2022-07-03T07:48:52.945057Z",
     "iopub.status.idle": "2022-07-03T07:48:52.961149Z",
     "shell.execute_reply": "2022-07-03T07:48:52.959309Z"
    },
    "papermill": {
     "duration": 0.02911,
     "end_time": "2022-07-03T07:48:52.964321",
     "exception": false,
     "start_time": "2022-07-03T07:48:52.935211",
     "status": "completed"
    },
    "tags": []
   },
   "outputs": [
    {
     "name": "stdout",
     "output_type": "stream",
     "text": [
      "    sl   sw   pl   pw  flower_type\n",
      "2  4.7  3.2  1.3  0.2  Iris-setosa\n",
      "3  4.6  3.1  1.5  0.2  Iris-setosa\n",
      "6  4.6  3.4  1.4  0.3  Iris-setosa\n",
      "7  5.0  3.4  1.5  0.2  Iris-setosa\n",
      "9  4.9  3.1  1.5  0.1  Iris-setosa\n"
     ]
    },
    {
     "data": {
      "text/plain": [
       "sl                     4.7\n",
       "sw                     3.2\n",
       "pl                     1.3\n",
       "pw                     0.2\n",
       "flower_type    Iris-setosa\n",
       "Name: 2, dtype: object"
      ]
     },
     "execution_count": 10,
     "metadata": {},
     "output_type": "execute_result"
    }
   ],
   "source": [
    "#Similarly to access the ith label row, we use loc\n",
    "\n",
    "print(iris.head())\n",
    "iris.loc[2]"
   ]
  },
  {
   "cell_type": "code",
   "execution_count": 11,
   "id": "8a57b23c",
   "metadata": {
    "execution": {
     "iopub.execute_input": "2022-07-03T07:48:52.983567Z",
     "iopub.status.busy": "2022-07-03T07:48:52.983199Z",
     "iopub.status.idle": "2022-07-03T07:48:53.001259Z",
     "shell.execute_reply": "2022-07-03T07:48:52.999991Z"
    },
    "papermill": {
     "duration": 0.030558,
     "end_time": "2022-07-03T07:48:53.003698",
     "exception": false,
     "start_time": "2022-07-03T07:48:52.973140",
     "status": "completed"
    },
    "tags": []
   },
   "outputs": [
    {
     "data": {
      "text/html": [
       "<div>\n",
       "<style scoped>\n",
       "    .dataframe tbody tr th:only-of-type {\n",
       "        vertical-align: middle;\n",
       "    }\n",
       "\n",
       "    .dataframe tbody tr th {\n",
       "        vertical-align: top;\n",
       "    }\n",
       "\n",
       "    .dataframe thead th {\n",
       "        text-align: right;\n",
       "    }\n",
       "</style>\n",
       "<table border=\"1\" class=\"dataframe\">\n",
       "  <thead>\n",
       "    <tr style=\"text-align: right;\">\n",
       "      <th></th>\n",
       "      <th>sl</th>\n",
       "      <th>sw</th>\n",
       "      <th>pl</th>\n",
       "      <th>pw</th>\n",
       "      <th>flower_type</th>\n",
       "    </tr>\n",
       "  </thead>\n",
       "  <tbody>\n",
       "    <tr>\n",
       "      <th>146</th>\n",
       "      <td>6.3</td>\n",
       "      <td>2.5</td>\n",
       "      <td>5.0</td>\n",
       "      <td>1.9</td>\n",
       "      <td>Iris-virginica</td>\n",
       "    </tr>\n",
       "    <tr>\n",
       "      <th>147</th>\n",
       "      <td>6.5</td>\n",
       "      <td>3.0</td>\n",
       "      <td>5.2</td>\n",
       "      <td>2.0</td>\n",
       "      <td>Iris-virginica</td>\n",
       "    </tr>\n",
       "    <tr>\n",
       "      <th>148</th>\n",
       "      <td>6.2</td>\n",
       "      <td>3.4</td>\n",
       "      <td>5.4</td>\n",
       "      <td>2.3</td>\n",
       "      <td>Iris-virginica</td>\n",
       "    </tr>\n",
       "    <tr>\n",
       "      <th>149</th>\n",
       "      <td>5.9</td>\n",
       "      <td>3.0</td>\n",
       "      <td>5.1</td>\n",
       "      <td>1.8</td>\n",
       "      <td>Iris-virginica</td>\n",
       "    </tr>\n",
       "    <tr>\n",
       "      <th>0</th>\n",
       "      <td>1.0</td>\n",
       "      <td>2.0</td>\n",
       "      <td>3.0</td>\n",
       "      <td>4.0</td>\n",
       "      <td>Iris-setosa</td>\n",
       "    </tr>\n",
       "  </tbody>\n",
       "</table>\n",
       "</div>"
      ],
      "text/plain": [
       "      sl   sw   pl   pw     flower_type\n",
       "146  6.3  2.5  5.0  1.9  Iris-virginica\n",
       "147  6.5  3.0  5.2  2.0  Iris-virginica\n",
       "148  6.2  3.4  5.4  2.3  Iris-virginica\n",
       "149  5.9  3.0  5.1  1.8  Iris-virginica\n",
       "0    1.0  2.0  3.0  4.0     Iris-setosa"
      ]
     },
     "execution_count": 11,
     "metadata": {},
     "output_type": "execute_result"
    }
   ],
   "source": [
    "#To add a row into a dataframe, \n",
    "\n",
    "iris.loc[0] = [1, 2, 3, 4, \"Iris-setosa\"]\n",
    "\n",
    "#The entry will be added to the end\n",
    "iris.tail()"
   ]
  },
  {
   "cell_type": "code",
   "execution_count": 12,
   "id": "fa88e635",
   "metadata": {
    "execution": {
     "iopub.execute_input": "2022-07-03T07:48:53.024233Z",
     "iopub.status.busy": "2022-07-03T07:48:53.023870Z",
     "iopub.status.idle": "2022-07-03T07:48:53.041034Z",
     "shell.execute_reply": "2022-07-03T07:48:53.039784Z"
    },
    "papermill": {
     "duration": 0.030907,
     "end_time": "2022-07-03T07:48:53.044280",
     "exception": false,
     "start_time": "2022-07-03T07:48:53.013373",
     "status": "completed"
    },
    "tags": []
   },
   "outputs": [
    {
     "name": "stdout",
     "output_type": "stream",
     "text": [
      "Dataframe before reset index\n",
      "     sl   sw   pl   pw  flower_type\n",
      "2   4.7  3.2  1.3  0.2  Iris-setosa\n",
      "3   4.6  3.1  1.5  0.2  Iris-setosa\n",
      "6   4.6  3.4  1.4  0.3  Iris-setosa\n",
      "7   5.0  3.4  1.5  0.2  Iris-setosa\n",
      "9   4.9  3.1  1.5  0.1  Iris-setosa\n",
      "10  5.4  3.7  1.5  0.2  Iris-setosa\n",
      "11  4.8  3.4  1.6  0.2  Iris-setosa\n",
      "12  4.8  3.0  1.4  0.1  Iris-setosa\n",
      "13  4.3  3.0  1.1  0.1  Iris-setosa\n",
      "14  5.8  4.0  1.2  0.2  Iris-setosa\n",
      "\n",
      "Dataframe after reset index\n",
      "   index   sl   sw   pl   pw  flower_type\n",
      "0      2  4.7  3.2  1.3  0.2  Iris-setosa\n",
      "1      3  4.6  3.1  1.5  0.2  Iris-setosa\n",
      "2      6  4.6  3.4  1.4  0.3  Iris-setosa\n",
      "3      7  5.0  3.4  1.5  0.2  Iris-setosa\n",
      "4      9  4.9  3.1  1.5  0.1  Iris-setosa\n",
      "5     10  5.4  3.7  1.5  0.2  Iris-setosa\n",
      "6     11  4.8  3.4  1.6  0.2  Iris-setosa\n",
      "7     12  4.8  3.0  1.4  0.1  Iris-setosa\n",
      "8     13  4.3  3.0  1.1  0.1  Iris-setosa\n",
      "9     14  5.8  4.0  1.2  0.2  Iris-setosa\n"
     ]
    }
   ],
   "source": [
    "#To reset the indices, reset_index() function is used\n",
    "\n",
    "print(\"Dataframe before reset index\")\n",
    "print(iris.head(10))\n",
    "iris.reset_index(inplace=True)\n",
    "print(\"\\nDataframe after reset index\")\n",
    "print(iris.head(10))\n",
    "\n",
    "#Note that in the above dataframe the indices before resetting index are added as a column in our updated dataframe"
   ]
  },
  {
   "cell_type": "code",
   "execution_count": 13,
   "id": "2047191e",
   "metadata": {
    "execution": {
     "iopub.execute_input": "2022-07-03T07:48:53.064180Z",
     "iopub.status.busy": "2022-07-03T07:48:53.063812Z",
     "iopub.status.idle": "2022-07-03T07:48:53.080217Z",
     "shell.execute_reply": "2022-07-03T07:48:53.078809Z"
    },
    "papermill": {
     "duration": 0.030361,
     "end_time": "2022-07-03T07:48:53.083956",
     "exception": false,
     "start_time": "2022-07-03T07:48:53.053595",
     "status": "completed"
    },
    "tags": []
   },
   "outputs": [
    {
     "name": "stdout",
     "output_type": "stream",
     "text": [
      "Dataframe before reset index\n",
      "   index   sl   sw   pl   pw  flower_type\n",
      "0      2  4.7  3.2  1.3  0.2  Iris-setosa\n",
      "1      3  4.6  3.1  1.5  0.2  Iris-setosa\n",
      "2      6  4.6  3.4  1.4  0.3  Iris-setosa\n",
      "3      7  5.0  3.4  1.5  0.2  Iris-setosa\n",
      "4      9  4.9  3.1  1.5  0.1  Iris-setosa\n",
      "5     10  5.4  3.7  1.5  0.2  Iris-setosa\n",
      "6     11  4.8  3.4  1.6  0.2  Iris-setosa\n",
      "7     12  4.8  3.0  1.4  0.1  Iris-setosa\n",
      "8     13  4.3  3.0  1.1  0.1  Iris-setosa\n",
      "9     14  5.8  4.0  1.2  0.2  Iris-setosa\n",
      "\n",
      "Dataframe after reset index\n",
      "   index   sl   sw   pl   pw  flower_type\n",
      "0      2  4.7  3.2  1.3  0.2  Iris-setosa\n",
      "1      3  4.6  3.1  1.5  0.2  Iris-setosa\n",
      "2      6  4.6  3.4  1.4  0.3  Iris-setosa\n",
      "3      7  5.0  3.4  1.5  0.2  Iris-setosa\n",
      "4      9  4.9  3.1  1.5  0.1  Iris-setosa\n",
      "5     10  5.4  3.7  1.5  0.2  Iris-setosa\n",
      "6     11  4.8  3.4  1.6  0.2  Iris-setosa\n",
      "7     12  4.8  3.0  1.4  0.1  Iris-setosa\n",
      "8     13  4.3  3.0  1.1  0.1  Iris-setosa\n",
      "9     14  5.8  4.0  1.2  0.2  Iris-setosa\n"
     ]
    }
   ],
   "source": [
    "# To not add the previous index values in the dataframe, drop=True argument in passed in the reset_index function\n",
    "\n",
    "print(\"Dataframe before reset index\")\n",
    "print(iris.head(10))\n",
    "iris.reset_index(drop=True, inplace=True)\n",
    "print(\"\\nDataframe after reset index\")\n",
    "print(iris.head(10))"
   ]
  },
  {
   "cell_type": "code",
   "execution_count": 14,
   "id": "48e25928",
   "metadata": {
    "execution": {
     "iopub.execute_input": "2022-07-03T07:48:53.104582Z",
     "iopub.status.busy": "2022-07-03T07:48:53.104217Z",
     "iopub.status.idle": "2022-07-03T07:48:53.109606Z",
     "shell.execute_reply": "2022-07-03T07:48:53.108787Z"
    },
    "papermill": {
     "duration": 0.017932,
     "end_time": "2022-07-03T07:48:53.111765",
     "exception": false,
     "start_time": "2022-07-03T07:48:53.093833",
     "status": "completed"
    },
    "tags": []
   },
   "outputs": [
    {
     "data": {
      "text/plain": [
       "RangeIndex(start=0, stop=146, step=1)"
      ]
     },
     "execution_count": 14,
     "metadata": {},
     "output_type": "execute_result"
    }
   ],
   "source": [
    "#Now check the indices of the updated dataframe\n",
    "iris.index"
   ]
  },
  {
   "cell_type": "code",
   "execution_count": 15,
   "id": "e5a0b3df",
   "metadata": {
    "execution": {
     "iopub.execute_input": "2022-07-03T07:48:53.132132Z",
     "iopub.status.busy": "2022-07-03T07:48:53.131692Z",
     "iopub.status.idle": "2022-07-03T07:48:53.147574Z",
     "shell.execute_reply": "2022-07-03T07:48:53.146733Z"
    },
    "papermill": {
     "duration": 0.028734,
     "end_time": "2022-07-03T07:48:53.149622",
     "exception": false,
     "start_time": "2022-07-03T07:48:53.120888",
     "status": "completed"
    },
    "tags": []
   },
   "outputs": [
    {
     "data": {
      "text/html": [
       "<div>\n",
       "<style scoped>\n",
       "    .dataframe tbody tr th:only-of-type {\n",
       "        vertical-align: middle;\n",
       "    }\n",
       "\n",
       "    .dataframe tbody tr th {\n",
       "        vertical-align: top;\n",
       "    }\n",
       "\n",
       "    .dataframe thead th {\n",
       "        text-align: right;\n",
       "    }\n",
       "</style>\n",
       "<table border=\"1\" class=\"dataframe\">\n",
       "  <thead>\n",
       "    <tr style=\"text-align: right;\">\n",
       "      <th></th>\n",
       "      <th>index</th>\n",
       "      <th>sw</th>\n",
       "      <th>pl</th>\n",
       "      <th>pw</th>\n",
       "      <th>flower_type</th>\n",
       "    </tr>\n",
       "  </thead>\n",
       "  <tbody>\n",
       "    <tr>\n",
       "      <th>0</th>\n",
       "      <td>2</td>\n",
       "      <td>3.2</td>\n",
       "      <td>1.3</td>\n",
       "      <td>0.2</td>\n",
       "      <td>Iris-setosa</td>\n",
       "    </tr>\n",
       "    <tr>\n",
       "      <th>1</th>\n",
       "      <td>3</td>\n",
       "      <td>3.1</td>\n",
       "      <td>1.5</td>\n",
       "      <td>0.2</td>\n",
       "      <td>Iris-setosa</td>\n",
       "    </tr>\n",
       "    <tr>\n",
       "      <th>2</th>\n",
       "      <td>6</td>\n",
       "      <td>3.4</td>\n",
       "      <td>1.4</td>\n",
       "      <td>0.3</td>\n",
       "      <td>Iris-setosa</td>\n",
       "    </tr>\n",
       "    <tr>\n",
       "      <th>3</th>\n",
       "      <td>7</td>\n",
       "      <td>3.4</td>\n",
       "      <td>1.5</td>\n",
       "      <td>0.2</td>\n",
       "      <td>Iris-setosa</td>\n",
       "    </tr>\n",
       "    <tr>\n",
       "      <th>4</th>\n",
       "      <td>9</td>\n",
       "      <td>3.1</td>\n",
       "      <td>1.5</td>\n",
       "      <td>0.1</td>\n",
       "      <td>Iris-setosa</td>\n",
       "    </tr>\n",
       "  </tbody>\n",
       "</table>\n",
       "</div>"
      ],
      "text/plain": [
       "   index   sw   pl   pw  flower_type\n",
       "0      2  3.2  1.3  0.2  Iris-setosa\n",
       "1      3  3.1  1.5  0.2  Iris-setosa\n",
       "2      6  3.4  1.4  0.3  Iris-setosa\n",
       "3      7  3.4  1.5  0.2  Iris-setosa\n",
       "4      9  3.1  1.5  0.1  Iris-setosa"
      ]
     },
     "execution_count": 15,
     "metadata": {},
     "output_type": "execute_result"
    }
   ],
   "source": [
    "#Deleting columns is similar to deleting rows.\n",
    "#We use drop function to delete whole columns with an extra argument axis=1\n",
    "#By default value of axis is 0. That means, rows will be deleted by default \n",
    "\n",
    "iris.drop('sl', axis=1, inplace=True)\n",
    "iris.head()"
   ]
  },
  {
   "cell_type": "code",
   "execution_count": 16,
   "id": "d6fc1c73",
   "metadata": {
    "execution": {
     "iopub.execute_input": "2022-07-03T07:48:53.170866Z",
     "iopub.status.busy": "2022-07-03T07:48:53.170443Z",
     "iopub.status.idle": "2022-07-03T07:48:53.174859Z",
     "shell.execute_reply": "2022-07-03T07:48:53.174008Z"
    },
    "papermill": {
     "duration": 0.017596,
     "end_time": "2022-07-03T07:48:53.176990",
     "exception": false,
     "start_time": "2022-07-03T07:48:53.159394",
     "status": "completed"
    },
    "tags": []
   },
   "outputs": [],
   "source": [
    "iris = df.copy()"
   ]
  },
  {
   "cell_type": "code",
   "execution_count": 17,
   "id": "f881e585",
   "metadata": {
    "execution": {
     "iopub.execute_input": "2022-07-03T07:48:53.197232Z",
     "iopub.status.busy": "2022-07-03T07:48:53.196860Z",
     "iopub.status.idle": "2022-07-03T07:48:53.211713Z",
     "shell.execute_reply": "2022-07-03T07:48:53.210962Z"
    },
    "papermill": {
     "duration": 0.027804,
     "end_time": "2022-07-03T07:48:53.213951",
     "exception": false,
     "start_time": "2022-07-03T07:48:53.186147",
     "status": "completed"
    },
    "tags": []
   },
   "outputs": [
    {
     "data": {
      "text/html": [
       "<div>\n",
       "<style scoped>\n",
       "    .dataframe tbody tr th:only-of-type {\n",
       "        vertical-align: middle;\n",
       "    }\n",
       "\n",
       "    .dataframe tbody tr th {\n",
       "        vertical-align: top;\n",
       "    }\n",
       "\n",
       "    .dataframe thead th {\n",
       "        text-align: right;\n",
       "    }\n",
       "</style>\n",
       "<table border=\"1\" class=\"dataframe\">\n",
       "  <thead>\n",
       "    <tr style=\"text-align: right;\">\n",
       "      <th></th>\n",
       "      <th>sl</th>\n",
       "      <th>sw</th>\n",
       "      <th>pl</th>\n",
       "      <th>pw</th>\n",
       "      <th>flower_type</th>\n",
       "      <th>diff_pl_pw</th>\n",
       "    </tr>\n",
       "  </thead>\n",
       "  <tbody>\n",
       "    <tr>\n",
       "      <th>0</th>\n",
       "      <td>5.1</td>\n",
       "      <td>3.5</td>\n",
       "      <td>1.4</td>\n",
       "      <td>0.2</td>\n",
       "      <td>Iris-setosa</td>\n",
       "      <td>1.2</td>\n",
       "    </tr>\n",
       "    <tr>\n",
       "      <th>1</th>\n",
       "      <td>4.9</td>\n",
       "      <td>3.0</td>\n",
       "      <td>1.4</td>\n",
       "      <td>0.2</td>\n",
       "      <td>Iris-setosa</td>\n",
       "      <td>1.2</td>\n",
       "    </tr>\n",
       "    <tr>\n",
       "      <th>2</th>\n",
       "      <td>4.7</td>\n",
       "      <td>3.2</td>\n",
       "      <td>1.3</td>\n",
       "      <td>0.2</td>\n",
       "      <td>Iris-setosa</td>\n",
       "      <td>1.1</td>\n",
       "    </tr>\n",
       "    <tr>\n",
       "      <th>3</th>\n",
       "      <td>4.6</td>\n",
       "      <td>3.1</td>\n",
       "      <td>1.5</td>\n",
       "      <td>0.2</td>\n",
       "      <td>Iris-setosa</td>\n",
       "      <td>1.3</td>\n",
       "    </tr>\n",
       "    <tr>\n",
       "      <th>4</th>\n",
       "      <td>5.0</td>\n",
       "      <td>3.6</td>\n",
       "      <td>1.4</td>\n",
       "      <td>0.2</td>\n",
       "      <td>Iris-setosa</td>\n",
       "      <td>1.2</td>\n",
       "    </tr>\n",
       "  </tbody>\n",
       "</table>\n",
       "</div>"
      ],
      "text/plain": [
       "    sl   sw   pl   pw  flower_type  diff_pl_pw\n",
       "0  5.1  3.5  1.4  0.2  Iris-setosa         1.2\n",
       "1  4.9  3.0  1.4  0.2  Iris-setosa         1.2\n",
       "2  4.7  3.2  1.3  0.2  Iris-setosa         1.1\n",
       "3  4.6  3.1  1.5  0.2  Iris-setosa         1.3\n",
       "4  5.0  3.6  1.4  0.2  Iris-setosa         1.2"
      ]
     },
     "execution_count": 17,
     "metadata": {},
     "output_type": "execute_result"
    }
   ],
   "source": [
    "#To add new columns, we use\n",
    "#df[\"column_name\"] = value_to_be_added\n",
    "\n",
    "iris['diff_pl_pw'] = iris['pl']-iris['pw']\n",
    "iris.head()"
   ]
  },
  {
   "cell_type": "code",
   "execution_count": 18,
   "id": "59a52647",
   "metadata": {
    "execution": {
     "iopub.execute_input": "2022-07-03T07:48:53.234866Z",
     "iopub.status.busy": "2022-07-03T07:48:53.234274Z",
     "iopub.status.idle": "2022-07-03T07:48:53.238587Z",
     "shell.execute_reply": "2022-07-03T07:48:53.237778Z"
    },
    "papermill": {
     "duration": 0.017472,
     "end_time": "2022-07-03T07:48:53.240844",
     "exception": false,
     "start_time": "2022-07-03T07:48:53.223372",
     "status": "completed"
    },
    "tags": []
   },
   "outputs": [],
   "source": [
    "iris = df.copy()"
   ]
  },
  {
   "cell_type": "code",
   "execution_count": 19,
   "id": "db720b9e",
   "metadata": {
    "execution": {
     "iopub.execute_input": "2022-07-03T07:48:53.262029Z",
     "iopub.status.busy": "2022-07-03T07:48:53.260944Z",
     "iopub.status.idle": "2022-07-03T07:48:53.275788Z",
     "shell.execute_reply": "2022-07-03T07:48:53.274842Z"
    },
    "papermill": {
     "duration": 0.027902,
     "end_time": "2022-07-03T07:48:53.278047",
     "exception": false,
     "start_time": "2022-07-03T07:48:53.250145",
     "status": "completed"
    },
    "tags": []
   },
   "outputs": [
    {
     "data": {
      "text/html": [
       "<div>\n",
       "<style scoped>\n",
       "    .dataframe tbody tr th:only-of-type {\n",
       "        vertical-align: middle;\n",
       "    }\n",
       "\n",
       "    .dataframe tbody tr th {\n",
       "        vertical-align: top;\n",
       "    }\n",
       "\n",
       "    .dataframe thead th {\n",
       "        text-align: right;\n",
       "    }\n",
       "</style>\n",
       "<table border=\"1\" class=\"dataframe\">\n",
       "  <thead>\n",
       "    <tr style=\"text-align: right;\">\n",
       "      <th></th>\n",
       "      <th>sl</th>\n",
       "      <th>sw</th>\n",
       "      <th>pl</th>\n",
       "      <th>pw</th>\n",
       "      <th>flower_type</th>\n",
       "    </tr>\n",
       "  </thead>\n",
       "  <tbody>\n",
       "    <tr>\n",
       "      <th>0</th>\n",
       "      <td>5.1</td>\n",
       "      <td>3.5</td>\n",
       "      <td>1.4</td>\n",
       "      <td>0.2</td>\n",
       "      <td>Iris-setosa</td>\n",
       "    </tr>\n",
       "    <tr>\n",
       "      <th>1</th>\n",
       "      <td>4.9</td>\n",
       "      <td>3.0</td>\n",
       "      <td>1.4</td>\n",
       "      <td>0.2</td>\n",
       "      <td>Iris-setosa</td>\n",
       "    </tr>\n",
       "    <tr>\n",
       "      <th>2</th>\n",
       "      <td>4.7</td>\n",
       "      <td>NaN</td>\n",
       "      <td>NaN</td>\n",
       "      <td>0.2</td>\n",
       "      <td>Iris-setosa</td>\n",
       "    </tr>\n",
       "    <tr>\n",
       "      <th>3</th>\n",
       "      <td>4.6</td>\n",
       "      <td>NaN</td>\n",
       "      <td>NaN</td>\n",
       "      <td>0.2</td>\n",
       "      <td>Iris-setosa</td>\n",
       "    </tr>\n",
       "    <tr>\n",
       "      <th>4</th>\n",
       "      <td>5.0</td>\n",
       "      <td>3.6</td>\n",
       "      <td>1.4</td>\n",
       "      <td>0.2</td>\n",
       "      <td>Iris-setosa</td>\n",
       "    </tr>\n",
       "  </tbody>\n",
       "</table>\n",
       "</div>"
      ],
      "text/plain": [
       "    sl   sw   pl   pw  flower_type\n",
       "0  5.1  3.5  1.4  0.2  Iris-setosa\n",
       "1  4.9  3.0  1.4  0.2  Iris-setosa\n",
       "2  4.7  NaN  NaN  0.2  Iris-setosa\n",
       "3  4.6  NaN  NaN  0.2  Iris-setosa\n",
       "4  5.0  3.6  1.4  0.2  Iris-setosa"
      ]
     },
     "execution_count": 19,
     "metadata": {},
     "output_type": "execute_result"
    }
   ],
   "source": [
    "#Handling nan values\n",
    "\n",
    "#First we will add some nan values in our iris dataset using a constant from numpy library\n",
    "\n",
    "import numpy as np\n",
    "\n",
    "iris.iloc[2:4, 1:3] = np.nan\n",
    "iris.head()"
   ]
  },
  {
   "cell_type": "code",
   "execution_count": 20,
   "id": "54da2191",
   "metadata": {
    "execution": {
     "iopub.execute_input": "2022-07-03T07:48:53.299221Z",
     "iopub.status.busy": "2022-07-03T07:48:53.298473Z",
     "iopub.status.idle": "2022-07-03T07:48:53.315693Z",
     "shell.execute_reply": "2022-07-03T07:48:53.314583Z"
    },
    "papermill": {
     "duration": 0.030199,
     "end_time": "2022-07-03T07:48:53.317865",
     "exception": false,
     "start_time": "2022-07-03T07:48:53.287666",
     "status": "completed"
    },
    "tags": []
   },
   "outputs": [
    {
     "data": {
      "text/html": [
       "<div>\n",
       "<style scoped>\n",
       "    .dataframe tbody tr th:only-of-type {\n",
       "        vertical-align: middle;\n",
       "    }\n",
       "\n",
       "    .dataframe tbody tr th {\n",
       "        vertical-align: top;\n",
       "    }\n",
       "\n",
       "    .dataframe thead th {\n",
       "        text-align: right;\n",
       "    }\n",
       "</style>\n",
       "<table border=\"1\" class=\"dataframe\">\n",
       "  <thead>\n",
       "    <tr style=\"text-align: right;\">\n",
       "      <th></th>\n",
       "      <th>sl</th>\n",
       "      <th>sw</th>\n",
       "      <th>pl</th>\n",
       "      <th>pw</th>\n",
       "      <th>flower_type</th>\n",
       "    </tr>\n",
       "  </thead>\n",
       "  <tbody>\n",
       "    <tr>\n",
       "      <th>0</th>\n",
       "      <td>5.1</td>\n",
       "      <td>3.5</td>\n",
       "      <td>1.4</td>\n",
       "      <td>0.2</td>\n",
       "      <td>Iris-setosa</td>\n",
       "    </tr>\n",
       "    <tr>\n",
       "      <th>1</th>\n",
       "      <td>4.9</td>\n",
       "      <td>3.0</td>\n",
       "      <td>1.4</td>\n",
       "      <td>0.2</td>\n",
       "      <td>Iris-setosa</td>\n",
       "    </tr>\n",
       "    <tr>\n",
       "      <th>2</th>\n",
       "      <td>4.7</td>\n",
       "      <td>3.2</td>\n",
       "      <td>1.3</td>\n",
       "      <td>0.2</td>\n",
       "      <td>Iris-setosa</td>\n",
       "    </tr>\n",
       "    <tr>\n",
       "      <th>3</th>\n",
       "      <td>4.6</td>\n",
       "      <td>3.1</td>\n",
       "      <td>1.5</td>\n",
       "      <td>0.2</td>\n",
       "      <td>Iris-setosa</td>\n",
       "    </tr>\n",
       "    <tr>\n",
       "      <th>4</th>\n",
       "      <td>5.0</td>\n",
       "      <td>3.6</td>\n",
       "      <td>1.4</td>\n",
       "      <td>0.2</td>\n",
       "      <td>Iris-setosa</td>\n",
       "    </tr>\n",
       "  </tbody>\n",
       "</table>\n",
       "</div>"
      ],
      "text/plain": [
       "    sl   sw   pl   pw  flower_type\n",
       "0  5.1  3.5  1.4  0.2  Iris-setosa\n",
       "1  4.9  3.0  1.4  0.2  Iris-setosa\n",
       "2  4.7  3.2  1.3  0.2  Iris-setosa\n",
       "3  4.6  3.1  1.5  0.2  Iris-setosa\n",
       "4  5.0  3.6  1.4  0.2  Iris-setosa"
      ]
     },
     "execution_count": 20,
     "metadata": {},
     "output_type": "execute_result"
    }
   ],
   "source": [
    "#dropna function is used to drop the rows which have nan entries\n",
    "\n",
    "df.dropna(inplace=True)\n",
    "df.reset_index(drop=True, inplace=True)\n",
    "df.head()"
   ]
  },
  {
   "cell_type": "code",
   "execution_count": 21,
   "id": "7bd79a5c",
   "metadata": {
    "execution": {
     "iopub.execute_input": "2022-07-03T07:48:53.339451Z",
     "iopub.status.busy": "2022-07-03T07:48:53.338407Z",
     "iopub.status.idle": "2022-07-03T07:48:53.353782Z",
     "shell.execute_reply": "2022-07-03T07:48:53.352654Z"
    },
    "papermill": {
     "duration": 0.028689,
     "end_time": "2022-07-03T07:48:53.356085",
     "exception": false,
     "start_time": "2022-07-03T07:48:53.327396",
     "status": "completed"
    },
    "tags": []
   },
   "outputs": [
    {
     "data": {
      "text/html": [
       "<div>\n",
       "<style scoped>\n",
       "    .dataframe tbody tr th:only-of-type {\n",
       "        vertical-align: middle;\n",
       "    }\n",
       "\n",
       "    .dataframe tbody tr th {\n",
       "        vertical-align: top;\n",
       "    }\n",
       "\n",
       "    .dataframe thead th {\n",
       "        text-align: right;\n",
       "    }\n",
       "</style>\n",
       "<table border=\"1\" class=\"dataframe\">\n",
       "  <thead>\n",
       "    <tr style=\"text-align: right;\">\n",
       "      <th></th>\n",
       "      <th>sl</th>\n",
       "      <th>sw</th>\n",
       "      <th>pl</th>\n",
       "      <th>pw</th>\n",
       "      <th>flower_type</th>\n",
       "    </tr>\n",
       "  </thead>\n",
       "  <tbody>\n",
       "    <tr>\n",
       "      <th>0</th>\n",
       "      <td>5.1</td>\n",
       "      <td>3.5</td>\n",
       "      <td>1.4</td>\n",
       "      <td>0.2</td>\n",
       "      <td>Iris-setosa</td>\n",
       "    </tr>\n",
       "    <tr>\n",
       "      <th>1</th>\n",
       "      <td>4.9</td>\n",
       "      <td>3.0</td>\n",
       "      <td>1.4</td>\n",
       "      <td>0.2</td>\n",
       "      <td>Iris-setosa</td>\n",
       "    </tr>\n",
       "    <tr>\n",
       "      <th>2</th>\n",
       "      <td>4.7</td>\n",
       "      <td>NaN</td>\n",
       "      <td>NaN</td>\n",
       "      <td>0.2</td>\n",
       "      <td>Iris-setosa</td>\n",
       "    </tr>\n",
       "    <tr>\n",
       "      <th>3</th>\n",
       "      <td>4.6</td>\n",
       "      <td>NaN</td>\n",
       "      <td>NaN</td>\n",
       "      <td>0.2</td>\n",
       "      <td>Iris-setosa</td>\n",
       "    </tr>\n",
       "    <tr>\n",
       "      <th>4</th>\n",
       "      <td>5.0</td>\n",
       "      <td>3.6</td>\n",
       "      <td>1.4</td>\n",
       "      <td>0.2</td>\n",
       "      <td>Iris-setosa</td>\n",
       "    </tr>\n",
       "  </tbody>\n",
       "</table>\n",
       "</div>"
      ],
      "text/plain": [
       "    sl   sw   pl   pw  flower_type\n",
       "0  5.1  3.5  1.4  0.2  Iris-setosa\n",
       "1  4.9  3.0  1.4  0.2  Iris-setosa\n",
       "2  4.7  NaN  NaN  0.2  Iris-setosa\n",
       "3  4.6  NaN  NaN  0.2  Iris-setosa\n",
       "4  5.0  3.6  1.4  0.2  Iris-setosa"
      ]
     },
     "execution_count": 21,
     "metadata": {},
     "output_type": "execute_result"
    }
   ],
   "source": [
    "iris.iloc[2:4, 1:3] = np.nan\n",
    "iris.head()"
   ]
  },
  {
   "cell_type": "code",
   "execution_count": 22,
   "id": "099113c3",
   "metadata": {
    "execution": {
     "iopub.execute_input": "2022-07-03T07:48:53.378791Z",
     "iopub.status.busy": "2022-07-03T07:48:53.377622Z",
     "iopub.status.idle": "2022-07-03T07:48:53.393273Z",
     "shell.execute_reply": "2022-07-03T07:48:53.391804Z"
    },
    "papermill": {
     "duration": 0.029615,
     "end_time": "2022-07-03T07:48:53.395767",
     "exception": false,
     "start_time": "2022-07-03T07:48:53.366152",
     "status": "completed"
    },
    "tags": []
   },
   "outputs": [
    {
     "name": "stdout",
     "output_type": "stream",
     "text": [
      "    sl        sw   pl   pw  flower_type\n",
      "0  5.1  3.500000  1.4  0.2  Iris-setosa\n",
      "1  4.9  3.000000  1.4  0.2  Iris-setosa\n",
      "2  4.7  3.052703  NaN  0.2  Iris-setosa\n",
      "3  4.6  3.052703  NaN  0.2  Iris-setosa\n",
      "4  5.0  3.600000  1.4  0.2  Iris-setosa\n",
      "\n",
      "\n",
      "    sl        sw        pl   pw  flower_type\n",
      "0  5.1  3.500000  1.400000  0.2  Iris-setosa\n",
      "1  4.9  3.000000  1.400000  0.2  Iris-setosa\n",
      "2  4.7  3.052703  3.790541  0.2  Iris-setosa\n",
      "3  4.6  3.052703  3.790541  0.2  Iris-setosa\n",
      "4  5.0  3.600000  1.400000  0.2  Iris-setosa\n"
     ]
    }
   ],
   "source": [
    "#To fill the nan entries, fillna function is used\n",
    "#There are several ways to fill the nan entries\n",
    "\n",
    "iris.sw.fillna(iris.sw.mean(), inplace=True)\n",
    "print(iris.head())\n",
    "print(\"\\n\")\n",
    "\n",
    "iris.pl.fillna(iris.pl.mean(), inplace=True)\n",
    "print(iris.head())\n"
   ]
  }
 ],
 "metadata": {
  "kernelspec": {
   "display_name": "Python 3",
   "language": "python",
   "name": "python3"
  },
  "language_info": {
   "codemirror_mode": {
    "name": "ipython",
    "version": 3
   },
   "file_extension": ".py",
   "mimetype": "text/x-python",
   "name": "python",
   "nbconvert_exporter": "python",
   "pygments_lexer": "ipython3",
   "version": "3.7.12"
  },
  "papermill": {
   "default_parameters": {},
   "duration": 11.991071,
   "end_time": "2022-07-03T07:48:54.026824",
   "environment_variables": {},
   "exception": null,
   "input_path": "__notebook__.ipynb",
   "output_path": "__notebook__.ipynb",
   "parameters": {},
   "start_time": "2022-07-03T07:48:42.035753",
   "version": "2.3.4"
  }
 },
 "nbformat": 4,
 "nbformat_minor": 5
}
