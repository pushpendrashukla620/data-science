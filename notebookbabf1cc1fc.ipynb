{
 "cells": [
  {
   "cell_type": "code",
   "execution_count": 1,
   "id": "0deb05aa",
   "metadata": {
    "execution": {
     "iopub.execute_input": "2022-06-19T08:06:39.823008Z",
     "iopub.status.busy": "2022-06-19T08:06:39.822416Z",
     "iopub.status.idle": "2022-06-19T08:06:39.840822Z",
     "shell.execute_reply": "2022-06-19T08:06:39.839831Z"
    },
    "papermill": {
     "duration": 0.036406,
     "end_time": "2022-06-19T08:06:39.850921",
     "exception": false,
     "start_time": "2022-06-19T08:06:39.814515",
     "status": "completed"
    },
    "tags": []
   },
   "outputs": [
    {
     "name": "stdout",
     "output_type": "stream",
     "text": [
      "['t' 'b' 'r' 'd' 'e' 'f' 'z' 'a']\n",
      "[15 12  3  9 17  5  1  4]\n"
     ]
    }
   ],
   "source": [
    "import numpy as np\n",
    "\n",
    "a = np.array(['t', 'b', 'r', 'd', 'e', 'f', 'z', 'a'])\n",
    "b = np.random.randint(1, 20, 8)\n",
    "\n",
    "print(a)\n",
    "print(b)"
   ]
  },
  {
   "cell_type": "code",
   "execution_count": 2,
   "id": "06ca0899",
   "metadata": {
    "execution": {
     "iopub.execute_input": "2022-06-19T08:06:39.864156Z",
     "iopub.status.busy": "2022-06-19T08:06:39.863600Z",
     "iopub.status.idle": "2022-06-19T08:06:39.870276Z",
     "shell.execute_reply": "2022-06-19T08:06:39.868601Z"
    },
    "papermill": {
     "duration": 0.015378,
     "end_time": "2022-06-19T08:06:39.872544",
     "exception": false,
     "start_time": "2022-06-19T08:06:39.857166",
     "status": "completed"
    },
    "tags": []
   },
   "outputs": [
    {
     "name": "stdout",
     "output_type": "stream",
     "text": [
      "[ True  True False False  True False False False]\n"
     ]
    }
   ],
   "source": [
    "print(b > 10)"
   ]
  },
  {
   "cell_type": "code",
   "execution_count": 3,
   "id": "8da37de6",
   "metadata": {
    "execution": {
     "iopub.execute_input": "2022-06-19T08:06:39.885002Z",
     "iopub.status.busy": "2022-06-19T08:06:39.884338Z",
     "iopub.status.idle": "2022-06-19T08:06:39.890046Z",
     "shell.execute_reply": "2022-06-19T08:06:39.888707Z"
    },
    "papermill": {
     "duration": 0.015023,
     "end_time": "2022-06-19T08:06:39.892506",
     "exception": false,
     "start_time": "2022-06-19T08:06:39.877483",
     "status": "completed"
    },
    "tags": []
   },
   "outputs": [
    {
     "name": "stdout",
     "output_type": "stream",
     "text": [
      "[ True  True False False  True False False False]\n",
      "[15 12 17]\n"
     ]
    }
   ],
   "source": [
    "bool_arr = b > 10\n",
    "print(bool_arr)\n",
    "new_arr = b[bool_arr]\n",
    "print(new_arr)"
   ]
  },
  {
   "cell_type": "code",
   "execution_count": 4,
   "id": "8abdebaa",
   "metadata": {
    "execution": {
     "iopub.execute_input": "2022-06-19T08:06:39.904553Z",
     "iopub.status.busy": "2022-06-19T08:06:39.904121Z",
     "iopub.status.idle": "2022-06-19T08:06:39.913113Z",
     "shell.execute_reply": "2022-06-19T08:06:39.912181Z"
    },
    "papermill": {
     "duration": 0.018073,
     "end_time": "2022-06-19T08:06:39.915487",
     "exception": false,
     "start_time": "2022-06-19T08:06:39.897414",
     "status": "completed"
    },
    "tags": []
   },
   "outputs": [
    {
     "data": {
      "text/plain": [
       "array([15, 12, 17])"
      ]
     },
     "execution_count": 4,
     "metadata": {},
     "output_type": "execute_result"
    }
   ],
   "source": [
    "new_arr = b[b > 10]\n",
    "new_arr"
   ]
  },
  {
   "cell_type": "code",
   "execution_count": 5,
   "id": "35b84ebc",
   "metadata": {
    "execution": {
     "iopub.execute_input": "2022-06-19T08:06:39.927754Z",
     "iopub.status.busy": "2022-06-19T08:06:39.927342Z",
     "iopub.status.idle": "2022-06-19T08:06:39.934372Z",
     "shell.execute_reply": "2022-06-19T08:06:39.933321Z"
    },
    "papermill": {
     "duration": 0.015857,
     "end_time": "2022-06-19T08:06:39.936558",
     "exception": false,
     "start_time": "2022-06-19T08:06:39.920701",
     "status": "completed"
    },
    "tags": []
   },
   "outputs": [
    {
     "data": {
      "text/plain": [
       "array([15, 12, 17])"
      ]
     },
     "execution_count": 5,
     "metadata": {},
     "output_type": "execute_result"
    }
   ],
   "source": [
    "new_arr = b[(b > 10) & (b < 18)]\n",
    "new_arr"
   ]
  },
  {
   "cell_type": "code",
   "execution_count": 6,
   "id": "deb093ec",
   "metadata": {
    "execution": {
     "iopub.execute_input": "2022-06-19T08:06:39.948734Z",
     "iopub.status.busy": "2022-06-19T08:06:39.948317Z",
     "iopub.status.idle": "2022-06-19T08:06:39.955109Z",
     "shell.execute_reply": "2022-06-19T08:06:39.954116Z"
    },
    "papermill": {
     "duration": 0.015184,
     "end_time": "2022-06-19T08:06:39.957151",
     "exception": false,
     "start_time": "2022-06-19T08:06:39.941967",
     "status": "completed"
    },
    "tags": []
   },
   "outputs": [
    {
     "name": "stdout",
     "output_type": "stream",
     "text": [
      "[15 12  3  9 17  5  1  4]\n"
     ]
    },
    {
     "data": {
      "text/plain": [
       "array([15, 12,  3,  9, 17,  5,  1,  4])"
      ]
     },
     "execution_count": 6,
     "metadata": {},
     "output_type": "execute_result"
    }
   ],
   "source": [
    "print(b)\n",
    "c = b\n",
    "c"
   ]
  },
  {
   "cell_type": "code",
   "execution_count": 7,
   "id": "bf6fb775",
   "metadata": {
    "execution": {
     "iopub.execute_input": "2022-06-19T08:06:39.969713Z",
     "iopub.status.busy": "2022-06-19T08:06:39.969013Z",
     "iopub.status.idle": "2022-06-19T08:06:39.976844Z",
     "shell.execute_reply": "2022-06-19T08:06:39.975423Z"
    },
    "papermill": {
     "duration": 0.016816,
     "end_time": "2022-06-19T08:06:39.979268",
     "exception": false,
     "start_time": "2022-06-19T08:06:39.962452",
     "status": "completed"
    },
    "tags": []
   },
   "outputs": [
    {
     "name": "stdout",
     "output_type": "stream",
     "text": [
      "[19 19 19  9 17  5  1  4]\n"
     ]
    },
    {
     "data": {
      "text/plain": [
       "array([100, 100, 100,   9, 100,   5,   1,   4])"
      ]
     },
     "execution_count": 7,
     "metadata": {},
     "output_type": "execute_result"
    }
   ],
   "source": [
    "c[:3] = 19\n",
    "print(c)\n",
    "c[c > 15] = 100\n",
    "c"
   ]
  },
  {
   "cell_type": "code",
   "execution_count": 8,
   "id": "883a9ea1",
   "metadata": {
    "execution": {
     "iopub.execute_input": "2022-06-19T08:06:39.993040Z",
     "iopub.status.busy": "2022-06-19T08:06:39.992412Z",
     "iopub.status.idle": "2022-06-19T08:06:39.998854Z",
     "shell.execute_reply": "2022-06-19T08:06:39.997441Z"
    },
    "papermill": {
     "duration": 0.016678,
     "end_time": "2022-06-19T08:06:40.001813",
     "exception": false,
     "start_time": "2022-06-19T08:06:39.985135",
     "status": "completed"
    },
    "tags": []
   },
   "outputs": [
    {
     "name": "stdout",
     "output_type": "stream",
     "text": [
      "[100 100 100   9 100   5   1   4]\n"
     ]
    }
   ],
   "source": [
    "print(b)\n"
   ]
  },
  {
   "cell_type": "code",
   "execution_count": 9,
   "id": "dddea043",
   "metadata": {
    "execution": {
     "iopub.execute_input": "2022-06-19T08:06:40.015991Z",
     "iopub.status.busy": "2022-06-19T08:06:40.015607Z",
     "iopub.status.idle": "2022-06-19T08:06:40.021584Z",
     "shell.execute_reply": "2022-06-19T08:06:40.020451Z"
    },
    "papermill": {
     "duration": 0.015423,
     "end_time": "2022-06-19T08:06:40.024050",
     "exception": false,
     "start_time": "2022-06-19T08:06:40.008627",
     "status": "completed"
    },
    "tags": []
   },
   "outputs": [
    {
     "name": "stdout",
     "output_type": "stream",
     "text": [
      "[100 100 100 100]\n"
     ]
    }
   ],
   "source": [
    "print(b[b == 100])"
   ]
  },
  {
   "cell_type": "code",
   "execution_count": 10,
   "id": "eeadbe22",
   "metadata": {
    "execution": {
     "iopub.execute_input": "2022-06-19T08:06:40.037662Z",
     "iopub.status.busy": "2022-06-19T08:06:40.037254Z",
     "iopub.status.idle": "2022-06-19T08:06:40.043724Z",
     "shell.execute_reply": "2022-06-19T08:06:40.042412Z"
    },
    "papermill": {
     "duration": 0.015645,
     "end_time": "2022-06-19T08:06:40.045915",
     "exception": false,
     "start_time": "2022-06-19T08:06:40.030270",
     "status": "completed"
    },
    "tags": []
   },
   "outputs": [
    {
     "data": {
      "text/plain": [
       "(array([0, 1, 2, 4]),)"
      ]
     },
     "execution_count": 10,
     "metadata": {},
     "output_type": "execute_result"
    }
   ],
   "source": [
    "ind = np.where(b == 100)\n",
    "ind"
   ]
  },
  {
   "cell_type": "code",
   "execution_count": 11,
   "id": "e32d5969",
   "metadata": {
    "execution": {
     "iopub.execute_input": "2022-06-19T08:06:40.060261Z",
     "iopub.status.busy": "2022-06-19T08:06:40.059351Z",
     "iopub.status.idle": "2022-06-19T08:06:40.065709Z",
     "shell.execute_reply": "2022-06-19T08:06:40.064689Z"
    },
    "papermill": {
     "duration": 0.015433,
     "end_time": "2022-06-19T08:06:40.067717",
     "exception": false,
     "start_time": "2022-06-19T08:06:40.052284",
     "status": "completed"
    },
    "tags": []
   },
   "outputs": [
    {
     "name": "stdout",
     "output_type": "stream",
     "text": [
      "['t' 'b' 'r' 'd' 'e' 'f' 'z' 'a']\n",
      "[100 100 100   9 100   5   1   4]\n"
     ]
    }
   ],
   "source": [
    "print(a)\n",
    "print(b)"
   ]
  },
  {
   "cell_type": "code",
   "execution_count": 12,
   "id": "07db0636",
   "metadata": {
    "execution": {
     "iopub.execute_input": "2022-06-19T08:06:40.081163Z",
     "iopub.status.busy": "2022-06-19T08:06:40.080785Z",
     "iopub.status.idle": "2022-06-19T08:06:40.085686Z",
     "shell.execute_reply": "2022-06-19T08:06:40.084946Z"
    },
    "papermill": {
     "duration": 0.013934,
     "end_time": "2022-06-19T08:06:40.087569",
     "exception": false,
     "start_time": "2022-06-19T08:06:40.073635",
     "status": "completed"
    },
    "tags": []
   },
   "outputs": [
    {
     "name": "stdout",
     "output_type": "stream",
     "text": [
      "(array([0, 1, 2, 4]),)\n",
      "['t' 'b' 'r' 'e']\n"
     ]
    }
   ],
   "source": [
    "ind = np.where(b == 100)\n",
    "print(ind)\n",
    "print(a[ind])"
   ]
  },
  {
   "cell_type": "code",
   "execution_count": 13,
   "id": "c0c20374",
   "metadata": {
    "execution": {
     "iopub.execute_input": "2022-06-19T08:06:40.102019Z",
     "iopub.status.busy": "2022-06-19T08:06:40.101243Z",
     "iopub.status.idle": "2022-06-19T08:06:40.105180Z",
     "shell.execute_reply": "2022-06-19T08:06:40.104427Z"
    },
    "papermill": {
     "duration": 0.013804,
     "end_time": "2022-06-19T08:06:40.107286",
     "exception": false,
     "start_time": "2022-06-19T08:06:40.093482",
     "status": "completed"
    },
    "tags": []
   },
   "outputs": [],
   "source": [
    "# np.reshape()\n",
    "# np.resize()"
   ]
  },
  {
   "cell_type": "code",
   "execution_count": null,
   "id": "24d55daa",
   "metadata": {
    "papermill": {
     "duration": 0.005912,
     "end_time": "2022-06-19T08:06:40.119645",
     "exception": false,
     "start_time": "2022-06-19T08:06:40.113733",
     "status": "completed"
    },
    "tags": []
   },
   "outputs": [],
   "source": []
  }
 ],
 "metadata": {
  "kernelspec": {
   "display_name": "Python 3",
   "language": "python",
   "name": "python3"
  },
  "language_info": {
   "codemirror_mode": {
    "name": "ipython",
    "version": 3
   },
   "file_extension": ".py",
   "mimetype": "text/x-python",
   "name": "python",
   "nbconvert_exporter": "python",
   "pygments_lexer": "ipython3",
   "version": "3.7.12"
  },
  "papermill": {
   "default_parameters": {},
   "duration": 11.465948,
   "end_time": "2022-06-19T08:06:40.747200",
   "environment_variables": {},
   "exception": null,
   "input_path": "__notebook__.ipynb",
   "output_path": "__notebook__.ipynb",
   "parameters": {},
   "start_time": "2022-06-19T08:06:29.281252",
   "version": "2.3.4"
  }
 },
 "nbformat": 4,
 "nbformat_minor": 5
}
