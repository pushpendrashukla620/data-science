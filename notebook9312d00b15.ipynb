{
 "cells": [
  {
   "cell_type": "markdown",
   "id": "22936da8",
   "metadata": {
    "papermill": {
     "duration": 0.005024,
     "end_time": "2022-06-29T16:28:56.837740",
     "exception": false,
     "start_time": "2022-06-29T16:28:56.832716",
     "status": "completed"
    },
    "tags": []
   },
   "source": [
    "### **_Pandas_**\n",
    "#### Pandas is an open source library which provides high-performance, easy-to-use data structures and data analysis tools for the Python programming language. Pandas has a lot of functions that will help in reading and writing data and also for data manipulation. Thus we will be using pandas throughout the course.\n"
   ]
  },
  {
   "cell_type": "code",
   "execution_count": 1,
   "id": "7d4c7504",
   "metadata": {
    "execution": {
     "iopub.execute_input": "2022-06-29T16:28:56.849123Z",
     "iopub.status.busy": "2022-06-29T16:28:56.848080Z",
     "iopub.status.idle": "2022-06-29T16:28:57.611886Z",
     "shell.execute_reply": "2022-06-29T16:28:57.610724Z"
    },
    "papermill": {
     "duration": 0.772535,
     "end_time": "2022-06-29T16:28:57.614606",
     "exception": false,
     "start_time": "2022-06-29T16:28:56.842071",
     "status": "completed"
    },
    "tags": []
   },
   "outputs": [
    {
     "name": "stdout",
     "output_type": "stream",
     "text": [
      "<class 'pandas.core.frame.DataFrame'>\n"
     ]
    }
   ],
   "source": [
    "#Import Pandas\n",
    "import pandas as pd\n",
    "\n",
    "#Loading data with read_csv() function. Here we are providing path to the csv file. \n",
    "#If the file is in your system you can provide its path as well.\n",
    "iris = pd.read_csv(\"https://archive.ics.uci.edu/ml/machine-learning-databases/iris/iris.data\")\n",
    "\n",
    "#Let's print and see its type\n",
    "print(type(iris))\n"
   ]
  },
  {
   "cell_type": "markdown",
   "id": "0b0f18df",
   "metadata": {
    "papermill": {
     "duration": 0.004046,
     "end_time": "2022-06-29T16:28:57.623310",
     "exception": false,
     "start_time": "2022-06-29T16:28:57.619264",
     "status": "completed"
    },
    "tags": []
   },
   "source": [
    "### Pandas Dataframes\n",
    "#### DataFrame is an object for data manipulation. You can think of it as a 2D tabular structure, where every row is a dataset entry and columns represents features of data.\n"
   ]
  },
  {
   "cell_type": "markdown",
   "id": "61010ef5",
   "metadata": {
    "papermill": {
     "duration": 0.003883,
     "end_time": "2022-06-29T16:28:57.631485",
     "exception": false,
     "start_time": "2022-06-29T16:28:57.627602",
     "status": "completed"
    },
    "tags": []
   },
   "source": [
    "### Creating copy of DataFrame\n",
    "    df = iris \n",
    "#### Above statement simply makes df refer to the data frame object that iris is referring to. So now both iris and df refer to the same dataframe object and any changes done via one will reflect in other.\n",
    "#### So effectively this is not creating another dataframe object. And if we wish to create a copy then we will use copy() function for that\n",
    "    df = iris.copy()"
   ]
  },
  {
   "cell_type": "code",
   "execution_count": 2,
   "id": "4a6dfa96",
   "metadata": {
    "execution": {
     "iopub.execute_input": "2022-06-29T16:28:57.642121Z",
     "iopub.status.busy": "2022-06-29T16:28:57.641434Z",
     "iopub.status.idle": "2022-06-29T16:28:58.406563Z",
     "shell.execute_reply": "2022-06-29T16:28:58.405476Z"
    },
    "papermill": {
     "duration": 0.773215,
     "end_time": "2022-06-29T16:28:58.408844",
     "exception": false,
     "start_time": "2022-06-29T16:28:57.635629",
     "status": "completed"
    },
    "tags": []
   },
   "outputs": [
    {
     "data": {
      "text/html": [
       "<div>\n",
       "<style scoped>\n",
       "    .dataframe tbody tr th:only-of-type {\n",
       "        vertical-align: middle;\n",
       "    }\n",
       "\n",
       "    .dataframe tbody tr th {\n",
       "        vertical-align: top;\n",
       "    }\n",
       "\n",
       "    .dataframe thead th {\n",
       "        text-align: right;\n",
       "    }\n",
       "</style>\n",
       "<table border=\"1\" class=\"dataframe\">\n",
       "  <thead>\n",
       "    <tr style=\"text-align: right;\">\n",
       "      <th></th>\n",
       "      <th>0</th>\n",
       "      <th>1</th>\n",
       "      <th>2</th>\n",
       "      <th>3</th>\n",
       "      <th>4</th>\n",
       "    </tr>\n",
       "  </thead>\n",
       "  <tbody>\n",
       "    <tr>\n",
       "      <th>0</th>\n",
       "      <td>5.1</td>\n",
       "      <td>3.5</td>\n",
       "      <td>1.4</td>\n",
       "      <td>0.2</td>\n",
       "      <td>Iris-setosa</td>\n",
       "    </tr>\n",
       "    <tr>\n",
       "      <th>1</th>\n",
       "      <td>4.9</td>\n",
       "      <td>3.0</td>\n",
       "      <td>1.4</td>\n",
       "      <td>0.2</td>\n",
       "      <td>Iris-setosa</td>\n",
       "    </tr>\n",
       "    <tr>\n",
       "      <th>2</th>\n",
       "      <td>4.7</td>\n",
       "      <td>3.2</td>\n",
       "      <td>1.3</td>\n",
       "      <td>0.2</td>\n",
       "      <td>Iris-setosa</td>\n",
       "    </tr>\n",
       "    <tr>\n",
       "      <th>3</th>\n",
       "      <td>4.6</td>\n",
       "      <td>3.1</td>\n",
       "      <td>1.5</td>\n",
       "      <td>0.2</td>\n",
       "      <td>Iris-setosa</td>\n",
       "    </tr>\n",
       "    <tr>\n",
       "      <th>4</th>\n",
       "      <td>5.0</td>\n",
       "      <td>3.6</td>\n",
       "      <td>1.4</td>\n",
       "      <td>0.2</td>\n",
       "      <td>Iris-setosa</td>\n",
       "    </tr>\n",
       "    <tr>\n",
       "      <th>...</th>\n",
       "      <td>...</td>\n",
       "      <td>...</td>\n",
       "      <td>...</td>\n",
       "      <td>...</td>\n",
       "      <td>...</td>\n",
       "    </tr>\n",
       "    <tr>\n",
       "      <th>145</th>\n",
       "      <td>6.7</td>\n",
       "      <td>3.0</td>\n",
       "      <td>5.2</td>\n",
       "      <td>2.3</td>\n",
       "      <td>Iris-virginica</td>\n",
       "    </tr>\n",
       "    <tr>\n",
       "      <th>146</th>\n",
       "      <td>6.3</td>\n",
       "      <td>2.5</td>\n",
       "      <td>5.0</td>\n",
       "      <td>1.9</td>\n",
       "      <td>Iris-virginica</td>\n",
       "    </tr>\n",
       "    <tr>\n",
       "      <th>147</th>\n",
       "      <td>6.5</td>\n",
       "      <td>3.0</td>\n",
       "      <td>5.2</td>\n",
       "      <td>2.0</td>\n",
       "      <td>Iris-virginica</td>\n",
       "    </tr>\n",
       "    <tr>\n",
       "      <th>148</th>\n",
       "      <td>6.2</td>\n",
       "      <td>3.4</td>\n",
       "      <td>5.4</td>\n",
       "      <td>2.3</td>\n",
       "      <td>Iris-virginica</td>\n",
       "    </tr>\n",
       "    <tr>\n",
       "      <th>149</th>\n",
       "      <td>5.9</td>\n",
       "      <td>3.0</td>\n",
       "      <td>5.1</td>\n",
       "      <td>1.8</td>\n",
       "      <td>Iris-virginica</td>\n",
       "    </tr>\n",
       "  </tbody>\n",
       "</table>\n",
       "<p>150 rows × 5 columns</p>\n",
       "</div>"
      ],
      "text/plain": [
       "       0    1    2    3               4\n",
       "0    5.1  3.5  1.4  0.2     Iris-setosa\n",
       "1    4.9  3.0  1.4  0.2     Iris-setosa\n",
       "2    4.7  3.2  1.3  0.2     Iris-setosa\n",
       "3    4.6  3.1  1.5  0.2     Iris-setosa\n",
       "4    5.0  3.6  1.4  0.2     Iris-setosa\n",
       "..   ...  ...  ...  ...             ...\n",
       "145  6.7  3.0  5.2  2.3  Iris-virginica\n",
       "146  6.3  2.5  5.0  1.9  Iris-virginica\n",
       "147  6.5  3.0  5.2  2.0  Iris-virginica\n",
       "148  6.2  3.4  5.4  2.3  Iris-virginica\n",
       "149  5.9  3.0  5.1  1.8  Iris-virginica\n",
       "\n",
       "[150 rows x 5 columns]"
      ]
     },
     "execution_count": 2,
     "metadata": {},
     "output_type": "execute_result"
    }
   ],
   "source": [
    "#Ignoring header -> If you don't want first row to be treated as a header, you can set header = None\n",
    "iris = pd.read_csv(\"https://archive.ics.uci.edu/ml/machine-learning-databases/iris/iris.data\", header=None)\n",
    "iris"
   ]
  },
  {
   "cell_type": "code",
   "execution_count": 3,
   "id": "fa4e22e2",
   "metadata": {
    "execution": {
     "iopub.execute_input": "2022-06-29T16:28:58.420370Z",
     "iopub.status.busy": "2022-06-29T16:28:58.419398Z",
     "iopub.status.idle": "2022-06-29T16:28:58.431877Z",
     "shell.execute_reply": "2022-06-29T16:28:58.429994Z"
    },
    "papermill": {
     "duration": 0.020962,
     "end_time": "2022-06-29T16:28:58.434478",
     "exception": false,
     "start_time": "2022-06-29T16:28:58.413516",
     "status": "completed"
    },
    "tags": []
   },
   "outputs": [
    {
     "name": "stdout",
     "output_type": "stream",
     "text": [
      "       0    1    2    3               4\n",
      "0    5.1  3.5  1.4  0.2     Iris-setosa\n",
      "1    4.9  3.0  1.4  0.2     Iris-setosa\n",
      "2    4.7  3.2  1.3  0.2     Iris-setosa\n",
      "3    4.6  3.1  1.5  0.2     Iris-setosa\n",
      "4    5.0  3.6  1.4  0.2     Iris-setosa\n",
      "..   ...  ...  ...  ...             ...\n",
      "145  6.7  3.0  5.2  2.3  Iris-virginica\n",
      "146  6.3  2.5  5.0  1.9  Iris-virginica\n",
      "147  6.5  3.0  5.2  2.0  Iris-virginica\n",
      "148  6.2  3.4  5.4  2.3  Iris-virginica\n",
      "149  5.9  3.0  5.1  1.8  Iris-virginica\n",
      "\n",
      "[150 rows x 5 columns]\n"
     ]
    }
   ],
   "source": [
    "df = iris.copy()\n",
    "print(df) \n",
    "#Iris data has a total of 150 rows, where the first row is treated as a header"
   ]
  },
  {
   "cell_type": "code",
   "execution_count": 4,
   "id": "7152a212",
   "metadata": {
    "execution": {
     "iopub.execute_input": "2022-06-29T16:28:58.445767Z",
     "iopub.status.busy": "2022-06-29T16:28:58.445327Z",
     "iopub.status.idle": "2022-06-29T16:28:58.450306Z",
     "shell.execute_reply": "2022-06-29T16:28:58.448915Z"
    },
    "papermill": {
     "duration": 0.013619,
     "end_time": "2022-06-29T16:28:58.452910",
     "exception": false,
     "start_time": "2022-06-29T16:28:58.439291",
     "status": "completed"
    },
    "tags": []
   },
   "outputs": [],
   "source": [
    "# head() function is a good way to have a look at first few enteries of the data frame. By default if shows first 5 enteries. \n",
    "#You can write df.head(n) if you wish to have a look at first n enteries.\n",
    "#df.head()"
   ]
  },
  {
   "cell_type": "code",
   "execution_count": 5,
   "id": "cefc4c91",
   "metadata": {
    "execution": {
     "iopub.execute_input": "2022-06-29T16:28:58.464434Z",
     "iopub.status.busy": "2022-06-29T16:28:58.464026Z",
     "iopub.status.idle": "2022-06-29T16:28:58.469631Z",
     "shell.execute_reply": "2022-06-29T16:28:58.468448Z"
    },
    "papermill": {
     "duration": 0.014313,
     "end_time": "2022-06-29T16:28:58.472171",
     "exception": false,
     "start_time": "2022-06-29T16:28:58.457858",
     "status": "completed"
    },
    "tags": []
   },
   "outputs": [],
   "source": [
    "#Column Headers\n",
    "df.columns  # Will tell you what the current column headers are\n",
    "#Changing Column Headers\n",
    "df.columns = ['sl','sw','pl','pw','flower_type']\n"
   ]
  },
  {
   "cell_type": "code",
   "execution_count": 6,
   "id": "e04e2dfa",
   "metadata": {
    "execution": {
     "iopub.execute_input": "2022-06-29T16:28:58.483324Z",
     "iopub.status.busy": "2022-06-29T16:28:58.482928Z",
     "iopub.status.idle": "2022-06-29T16:28:58.489104Z",
     "shell.execute_reply": "2022-06-29T16:28:58.488278Z"
    },
    "papermill": {
     "duration": 0.014646,
     "end_time": "2022-06-29T16:28:58.491575",
     "exception": false,
     "start_time": "2022-06-29T16:28:58.476929",
     "status": "completed"
    },
    "tags": []
   },
   "outputs": [
    {
     "name": "stdout",
     "output_type": "stream",
     "text": [
      "(150, 5)\n",
      "sl             float64\n",
      "sw             float64\n",
      "pl             float64\n",
      "pw             float64\n",
      "flower_type     object\n",
      "dtype: object\n"
     ]
    }
   ],
   "source": [
    "#shape tells us about the shape of the structure.\n",
    "print(df.shape)\n",
    "#dtypes will tell you type of data each column is storing\n",
    "print(df.dtypes)"
   ]
  },
  {
   "cell_type": "code",
   "execution_count": 7,
   "id": "bcef7c7b",
   "metadata": {
    "execution": {
     "iopub.execute_input": "2022-06-29T16:28:58.502871Z",
     "iopub.status.busy": "2022-06-29T16:28:58.502479Z",
     "iopub.status.idle": "2022-06-29T16:28:58.550123Z",
     "shell.execute_reply": "2022-06-29T16:28:58.548972Z"
    },
    "papermill": {
     "duration": 0.056305,
     "end_time": "2022-06-29T16:28:58.552628",
     "exception": false,
     "start_time": "2022-06-29T16:28:58.496323",
     "status": "completed"
    },
    "tags": []
   },
   "outputs": [
    {
     "name": "stdout",
     "output_type": "stream",
     "text": [
      "               sl          sw          pl          pw\n",
      "count  150.000000  150.000000  150.000000  150.000000\n",
      "mean     5.843333    3.054000    3.758667    1.198667\n",
      "std      0.828066    0.433594    1.764420    0.763161\n",
      "min      4.300000    2.000000    1.000000    0.100000\n",
      "25%      5.100000    2.800000    1.600000    0.300000\n",
      "50%      5.800000    3.000000    4.350000    1.300000\n",
      "75%      6.400000    3.300000    5.100000    1.800000\n",
      "max      7.900000    4.400000    6.900000    2.500000\n"
     ]
    },
    {
     "data": {
      "text/html": [
       "<div>\n",
       "<style scoped>\n",
       "    .dataframe tbody tr th:only-of-type {\n",
       "        vertical-align: middle;\n",
       "    }\n",
       "\n",
       "    .dataframe tbody tr th {\n",
       "        vertical-align: top;\n",
       "    }\n",
       "\n",
       "    .dataframe thead th {\n",
       "        text-align: right;\n",
       "    }\n",
       "</style>\n",
       "<table border=\"1\" class=\"dataframe\">\n",
       "  <thead>\n",
       "    <tr style=\"text-align: right;\">\n",
       "      <th></th>\n",
       "      <th>sl</th>\n",
       "      <th>sw</th>\n",
       "      <th>pl</th>\n",
       "      <th>pw</th>\n",
       "      <th>flower_type</th>\n",
       "    </tr>\n",
       "  </thead>\n",
       "  <tbody>\n",
       "    <tr>\n",
       "      <th>count</th>\n",
       "      <td>150.000000</td>\n",
       "      <td>150.000000</td>\n",
       "      <td>150.000000</td>\n",
       "      <td>150.000000</td>\n",
       "      <td>150</td>\n",
       "    </tr>\n",
       "    <tr>\n",
       "      <th>unique</th>\n",
       "      <td>NaN</td>\n",
       "      <td>NaN</td>\n",
       "      <td>NaN</td>\n",
       "      <td>NaN</td>\n",
       "      <td>3</td>\n",
       "    </tr>\n",
       "    <tr>\n",
       "      <th>top</th>\n",
       "      <td>NaN</td>\n",
       "      <td>NaN</td>\n",
       "      <td>NaN</td>\n",
       "      <td>NaN</td>\n",
       "      <td>Iris-setosa</td>\n",
       "    </tr>\n",
       "    <tr>\n",
       "      <th>freq</th>\n",
       "      <td>NaN</td>\n",
       "      <td>NaN</td>\n",
       "      <td>NaN</td>\n",
       "      <td>NaN</td>\n",
       "      <td>50</td>\n",
       "    </tr>\n",
       "    <tr>\n",
       "      <th>mean</th>\n",
       "      <td>5.843333</td>\n",
       "      <td>3.054000</td>\n",
       "      <td>3.758667</td>\n",
       "      <td>1.198667</td>\n",
       "      <td>NaN</td>\n",
       "    </tr>\n",
       "    <tr>\n",
       "      <th>std</th>\n",
       "      <td>0.828066</td>\n",
       "      <td>0.433594</td>\n",
       "      <td>1.764420</td>\n",
       "      <td>0.763161</td>\n",
       "      <td>NaN</td>\n",
       "    </tr>\n",
       "    <tr>\n",
       "      <th>min</th>\n",
       "      <td>4.300000</td>\n",
       "      <td>2.000000</td>\n",
       "      <td>1.000000</td>\n",
       "      <td>0.100000</td>\n",
       "      <td>NaN</td>\n",
       "    </tr>\n",
       "    <tr>\n",
       "      <th>25%</th>\n",
       "      <td>5.100000</td>\n",
       "      <td>2.800000</td>\n",
       "      <td>1.600000</td>\n",
       "      <td>0.300000</td>\n",
       "      <td>NaN</td>\n",
       "    </tr>\n",
       "    <tr>\n",
       "      <th>50%</th>\n",
       "      <td>5.800000</td>\n",
       "      <td>3.000000</td>\n",
       "      <td>4.350000</td>\n",
       "      <td>1.300000</td>\n",
       "      <td>NaN</td>\n",
       "    </tr>\n",
       "    <tr>\n",
       "      <th>75%</th>\n",
       "      <td>6.400000</td>\n",
       "      <td>3.300000</td>\n",
       "      <td>5.100000</td>\n",
       "      <td>1.800000</td>\n",
       "      <td>NaN</td>\n",
       "    </tr>\n",
       "    <tr>\n",
       "      <th>max</th>\n",
       "      <td>7.900000</td>\n",
       "      <td>4.400000</td>\n",
       "      <td>6.900000</td>\n",
       "      <td>2.500000</td>\n",
       "      <td>NaN</td>\n",
       "    </tr>\n",
       "  </tbody>\n",
       "</table>\n",
       "</div>"
      ],
      "text/plain": [
       "                sl          sw          pl          pw  flower_type\n",
       "count   150.000000  150.000000  150.000000  150.000000          150\n",
       "unique         NaN         NaN         NaN         NaN            3\n",
       "top            NaN         NaN         NaN         NaN  Iris-setosa\n",
       "freq           NaN         NaN         NaN         NaN           50\n",
       "mean      5.843333    3.054000    3.758667    1.198667          NaN\n",
       "std       0.828066    0.433594    1.764420    0.763161          NaN\n",
       "min       4.300000    2.000000    1.000000    0.100000          NaN\n",
       "25%       5.100000    2.800000    1.600000    0.300000          NaN\n",
       "50%       5.800000    3.000000    4.350000    1.300000          NaN\n",
       "75%       6.400000    3.300000    5.100000    1.800000          NaN\n",
       "max       7.900000    4.400000    6.900000    2.500000          NaN"
      ]
     },
     "execution_count": 7,
     "metadata": {},
     "output_type": "execute_result"
    }
   ],
   "source": [
    "#describe() function is a good way to get some statistics around the data. By default it includes all columns with numeric data.\n",
    "#Also the results exclude NaN enteries\n",
    "print(df.describe())\n",
    "#If you want to include all columns for result, then use -\n",
    "df.describe(include='all')\n"
   ]
  },
  {
   "cell_type": "code",
   "execution_count": 8,
   "id": "bd11354e",
   "metadata": {
    "execution": {
     "iopub.execute_input": "2022-06-29T16:28:58.564212Z",
     "iopub.status.busy": "2022-06-29T16:28:58.563871Z",
     "iopub.status.idle": "2022-06-29T16:28:58.576792Z",
     "shell.execute_reply": "2022-06-29T16:28:58.575818Z"
    },
    "papermill": {
     "duration": 0.021384,
     "end_time": "2022-06-29T16:28:58.578979",
     "exception": false,
     "start_time": "2022-06-29T16:28:58.557595",
     "status": "completed"
    },
    "tags": []
   },
   "outputs": [
    {
     "data": {
      "text/plain": [
       "count    150.000000\n",
       "mean       5.843333\n",
       "std        0.828066\n",
       "min        4.300000\n",
       "25%        5.100000\n",
       "50%        5.800000\n",
       "75%        6.400000\n",
       "max        7.900000\n",
       "Name: sl, dtype: float64"
      ]
     },
     "execution_count": 8,
     "metadata": {},
     "output_type": "execute_result"
    }
   ],
   "source": [
    "#Accessing a particular column.\n",
    "#df.column_name or df['column_name']lets you access a particular column\n",
    "df.sl  #OR\n",
    "df['sl']\n",
    "#You can also call describe() on a particular column\n",
    "df.sl.describe()\n",
    "#OR\n",
    "df['sl'].describe()"
   ]
  },
  {
   "cell_type": "code",
   "execution_count": 9,
   "id": "49f7086a",
   "metadata": {
    "execution": {
     "iopub.execute_input": "2022-06-29T16:28:58.591558Z",
     "iopub.status.busy": "2022-06-29T16:28:58.591217Z",
     "iopub.status.idle": "2022-06-29T16:28:58.605835Z",
     "shell.execute_reply": "2022-06-29T16:28:58.604328Z"
    },
    "papermill": {
     "duration": 0.02367,
     "end_time": "2022-06-29T16:28:58.608017",
     "exception": false,
     "start_time": "2022-06-29T16:28:58.584347",
     "status": "completed"
    },
    "tags": []
   },
   "outputs": [
    {
     "name": "stdout",
     "output_type": "stream",
     "text": [
      "        sl     sw     pl     pw  flower_type\n",
      "0    False  False  False  False        False\n",
      "1    False  False  False  False        False\n",
      "2    False  False  False  False        False\n",
      "3    False  False  False  False        False\n",
      "4    False  False  False  False        False\n",
      "..     ...    ...    ...    ...          ...\n",
      "145  False  False  False  False        False\n",
      "146  False  False  False  False        False\n",
      "147  False  False  False  False        False\n",
      "148  False  False  False  False        False\n",
      "149  False  False  False  False        False\n",
      "\n",
      "[150 rows x 5 columns]\n"
     ]
    },
    {
     "data": {
      "text/plain": [
       "sl             0\n",
       "sw             0\n",
       "pl             0\n",
       "pw             0\n",
       "flower_type    0\n",
       "dtype: int64"
      ]
     },
     "execution_count": 9,
     "metadata": {},
     "output_type": "execute_result"
    }
   ],
   "source": [
    "#Null enteries\n",
    "#df.isnull() will give you list of null enteries\n",
    "print(df.isnull())\n",
    "#Although df.isnull() in itself might not be very useful, we can use df.isnull().sum() which gives us count of number of null enteries in every column.\n",
    "df.isnull().sum()"
   ]
  },
  {
   "cell_type": "code",
   "execution_count": 10,
   "id": "f80c645c",
   "metadata": {
    "execution": {
     "iopub.execute_input": "2022-06-29T16:28:58.620971Z",
     "iopub.status.busy": "2022-06-29T16:28:58.620362Z",
     "iopub.status.idle": "2022-06-29T16:28:58.633457Z",
     "shell.execute_reply": "2022-06-29T16:28:58.632727Z"
    },
    "papermill": {
     "duration": 0.021703,
     "end_time": "2022-06-29T16:28:58.635443",
     "exception": false,
     "start_time": "2022-06-29T16:28:58.613740",
     "status": "completed"
    },
    "tags": []
   },
   "outputs": [
    {
     "data": {
      "text/html": [
       "<div>\n",
       "<style scoped>\n",
       "    .dataframe tbody tr th:only-of-type {\n",
       "        vertical-align: middle;\n",
       "    }\n",
       "\n",
       "    .dataframe tbody tr th {\n",
       "        vertical-align: top;\n",
       "    }\n",
       "\n",
       "    .dataframe thead th {\n",
       "        text-align: right;\n",
       "    }\n",
       "</style>\n",
       "<table border=\"1\" class=\"dataframe\">\n",
       "  <thead>\n",
       "    <tr style=\"text-align: right;\">\n",
       "      <th></th>\n",
       "      <th>sw</th>\n",
       "      <th>pl</th>\n",
       "      <th>pw</th>\n",
       "    </tr>\n",
       "  </thead>\n",
       "  <tbody>\n",
       "    <tr>\n",
       "      <th>2</th>\n",
       "      <td>3.2</td>\n",
       "      <td>1.3</td>\n",
       "      <td>0.2</td>\n",
       "    </tr>\n",
       "    <tr>\n",
       "      <th>3</th>\n",
       "      <td>3.1</td>\n",
       "      <td>1.5</td>\n",
       "      <td>0.2</td>\n",
       "    </tr>\n",
       "    <tr>\n",
       "      <th>4</th>\n",
       "      <td>3.6</td>\n",
       "      <td>1.4</td>\n",
       "      <td>0.2</td>\n",
       "    </tr>\n",
       "    <tr>\n",
       "      <th>5</th>\n",
       "      <td>3.9</td>\n",
       "      <td>1.7</td>\n",
       "      <td>0.4</td>\n",
       "    </tr>\n",
       "  </tbody>\n",
       "</table>\n",
       "</div>"
      ],
      "text/plain": [
       "    sw   pl   pw\n",
       "2  3.2  1.3  0.2\n",
       "3  3.1  1.5  0.2\n",
       "4  3.6  1.4  0.2\n",
       "5  3.9  1.7  0.4"
      ]
     },
     "execution_count": 10,
     "metadata": {},
     "output_type": "execute_result"
    }
   ],
   "source": [
    "#Selecting Rows and/or columns by position\n",
    "#iloc helps us in achieving this.\n",
    "#Selecting first 4 rows of data\n",
    "df.iloc[:4,:]\n",
    "#Selecting data for first 4 rows, and for first 2 columns \n",
    "df.iloc[:4,:2]\n",
    "#Selecting data for rows 2 to 5, and for columns 1 to 3\n",
    "df.iloc[2:6,1:4]"
   ]
  }
 ],
 "metadata": {
  "kernelspec": {
   "display_name": "Python 3",
   "language": "python",
   "name": "python3"
  },
  "language_info": {
   "codemirror_mode": {
    "name": "ipython",
    "version": 3
   },
   "file_extension": ".py",
   "mimetype": "text/x-python",
   "name": "python",
   "nbconvert_exporter": "python",
   "pygments_lexer": "ipython3",
   "version": "3.7.12"
  },
  "papermill": {
   "default_parameters": {},
   "duration": 11.670735,
   "end_time": "2022-06-29T16:28:59.262795",
   "environment_variables": {},
   "exception": null,
   "input_path": "__notebook__.ipynb",
   "output_path": "__notebook__.ipynb",
   "parameters": {},
   "start_time": "2022-06-29T16:28:47.592060",
   "version": "2.3.4"
  }
 },
 "nbformat": 4,
 "nbformat_minor": 5
}
