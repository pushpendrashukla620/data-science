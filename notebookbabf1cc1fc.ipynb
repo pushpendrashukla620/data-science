{
 "cells": [
  {
   "cell_type": "code",
   "execution_count": 1,
   "id": "605953a4",
   "metadata": {
    "execution": {
     "iopub.execute_input": "2022-06-17T16:28:48.893809Z",
     "iopub.status.busy": "2022-06-17T16:28:48.893138Z",
     "iopub.status.idle": "2022-06-17T16:28:48.907473Z",
     "shell.execute_reply": "2022-06-17T16:28:48.906333Z"
    },
    "papermill": {
     "duration": 0.025504,
     "end_time": "2022-06-17T16:28:48.912034",
     "exception": false,
     "start_time": "2022-06-17T16:28:48.886530",
     "status": "completed"
    },
    "tags": []
   },
   "outputs": [
    {
     "name": "stdout",
     "output_type": "stream",
     "text": [
      "['t' 'b' 'r' 'd' 'e' 'f' 'z' 'a']\n",
      "[ 1 11 10  3 18 11 14 13]\n"
     ]
    }
   ],
   "source": [
    "import numpy as np\n",
    "\n",
    "a = np.array(['t', 'b', 'r', 'd', 'e', 'f', 'z', 'a'])\n",
    "b = np.random.randint(1, 20, 8)\n",
    "\n",
    "print(a)\n",
    "print(b)"
   ]
  },
  {
   "cell_type": "code",
   "execution_count": 2,
   "id": "dc2e960d",
   "metadata": {
    "execution": {
     "iopub.execute_input": "2022-06-17T16:28:48.922451Z",
     "iopub.status.busy": "2022-06-17T16:28:48.921744Z",
     "iopub.status.idle": "2022-06-17T16:28:48.927707Z",
     "shell.execute_reply": "2022-06-17T16:28:48.926732Z"
    },
    "papermill": {
     "duration": 0.014021,
     "end_time": "2022-06-17T16:28:48.930442",
     "exception": false,
     "start_time": "2022-06-17T16:28:48.916421",
     "status": "completed"
    },
    "tags": []
   },
   "outputs": [
    {
     "name": "stdout",
     "output_type": "stream",
     "text": [
      "[False  True False False  True  True  True  True]\n"
     ]
    }
   ],
   "source": [
    "print(b > 10)"
   ]
  },
  {
   "cell_type": "code",
   "execution_count": 3,
   "id": "ccf5837d",
   "metadata": {
    "execution": {
     "iopub.execute_input": "2022-06-17T16:28:48.941278Z",
     "iopub.status.busy": "2022-06-17T16:28:48.940615Z",
     "iopub.status.idle": "2022-06-17T16:28:48.946670Z",
     "shell.execute_reply": "2022-06-17T16:28:48.945690Z"
    },
    "papermill": {
     "duration": 0.01344,
     "end_time": "2022-06-17T16:28:48.948653",
     "exception": false,
     "start_time": "2022-06-17T16:28:48.935213",
     "status": "completed"
    },
    "tags": []
   },
   "outputs": [
    {
     "name": "stdout",
     "output_type": "stream",
     "text": [
      "[False  True False False  True  True  True  True]\n",
      "[11 18 11 14 13]\n"
     ]
    }
   ],
   "source": [
    "bool_arr = b > 10\n",
    "print(bool_arr)\n",
    "new_arr = b[bool_arr]\n",
    "print(new_arr)"
   ]
  },
  {
   "cell_type": "code",
   "execution_count": 4,
   "id": "c91ebe8f",
   "metadata": {
    "execution": {
     "iopub.execute_input": "2022-06-17T16:28:48.958790Z",
     "iopub.status.busy": "2022-06-17T16:28:48.958187Z",
     "iopub.status.idle": "2022-06-17T16:28:48.966498Z",
     "shell.execute_reply": "2022-06-17T16:28:48.965662Z"
    },
    "papermill": {
     "duration": 0.015457,
     "end_time": "2022-06-17T16:28:48.968364",
     "exception": false,
     "start_time": "2022-06-17T16:28:48.952907",
     "status": "completed"
    },
    "tags": []
   },
   "outputs": [
    {
     "data": {
      "text/plain": [
       "array([11, 18, 11, 14, 13])"
      ]
     },
     "execution_count": 4,
     "metadata": {},
     "output_type": "execute_result"
    }
   ],
   "source": [
    "new_arr = b[b > 10]\n",
    "new_arr"
   ]
  },
  {
   "cell_type": "code",
   "execution_count": 5,
   "id": "4ff3c45e",
   "metadata": {
    "execution": {
     "iopub.execute_input": "2022-06-17T16:28:48.978796Z",
     "iopub.status.busy": "2022-06-17T16:28:48.978185Z",
     "iopub.status.idle": "2022-06-17T16:28:48.984693Z",
     "shell.execute_reply": "2022-06-17T16:28:48.984009Z"
    },
    "papermill": {
     "duration": 0.013843,
     "end_time": "2022-06-17T16:28:48.986566",
     "exception": false,
     "start_time": "2022-06-17T16:28:48.972723",
     "status": "completed"
    },
    "tags": []
   },
   "outputs": [
    {
     "data": {
      "text/plain": [
       "array([11, 11, 14, 13])"
      ]
     },
     "execution_count": 5,
     "metadata": {},
     "output_type": "execute_result"
    }
   ],
   "source": [
    "new_arr = b[(b > 10) & (b < 18)]\n",
    "new_arr"
   ]
  },
  {
   "cell_type": "code",
   "execution_count": 6,
   "id": "1fa8c112",
   "metadata": {
    "execution": {
     "iopub.execute_input": "2022-06-17T16:28:48.997357Z",
     "iopub.status.busy": "2022-06-17T16:28:48.996724Z",
     "iopub.status.idle": "2022-06-17T16:28:49.003814Z",
     "shell.execute_reply": "2022-06-17T16:28:49.002899Z"
    },
    "papermill": {
     "duration": 0.014603,
     "end_time": "2022-06-17T16:28:49.005718",
     "exception": false,
     "start_time": "2022-06-17T16:28:48.991115",
     "status": "completed"
    },
    "tags": []
   },
   "outputs": [
    {
     "name": "stdout",
     "output_type": "stream",
     "text": [
      "[ 1 11 10  3 18 11 14 13]\n"
     ]
    },
    {
     "data": {
      "text/plain": [
       "array([ 1, 11, 10,  3, 18, 11, 14, 13])"
      ]
     },
     "execution_count": 6,
     "metadata": {},
     "output_type": "execute_result"
    }
   ],
   "source": [
    "print(b)\n",
    "c = b\n",
    "c"
   ]
  },
  {
   "cell_type": "code",
   "execution_count": 7,
   "id": "bfed4941",
   "metadata": {
    "execution": {
     "iopub.execute_input": "2022-06-17T16:28:49.016850Z",
     "iopub.status.busy": "2022-06-17T16:28:49.016231Z",
     "iopub.status.idle": "2022-06-17T16:28:49.024283Z",
     "shell.execute_reply": "2022-06-17T16:28:49.023299Z"
    },
    "papermill": {
     "duration": 0.015867,
     "end_time": "2022-06-17T16:28:49.026279",
     "exception": false,
     "start_time": "2022-06-17T16:28:49.010412",
     "status": "completed"
    },
    "tags": []
   },
   "outputs": [
    {
     "name": "stdout",
     "output_type": "stream",
     "text": [
      "[19 19 19  3 18 11 14 13]\n"
     ]
    },
    {
     "data": {
      "text/plain": [
       "array([100, 100, 100,   3, 100,  11,  14,  13])"
      ]
     },
     "execution_count": 7,
     "metadata": {},
     "output_type": "execute_result"
    }
   ],
   "source": [
    "c[:3] = 19\n",
    "print(c)\n",
    "c[c > 15] = 100\n",
    "c"
   ]
  },
  {
   "cell_type": "code",
   "execution_count": 8,
   "id": "5c96b46a",
   "metadata": {
    "execution": {
     "iopub.execute_input": "2022-06-17T16:28:49.038572Z",
     "iopub.status.busy": "2022-06-17T16:28:49.037906Z",
     "iopub.status.idle": "2022-06-17T16:28:49.042908Z",
     "shell.execute_reply": "2022-06-17T16:28:49.041813Z"
    },
    "papermill": {
     "duration": 0.013773,
     "end_time": "2022-06-17T16:28:49.045432",
     "exception": false,
     "start_time": "2022-06-17T16:28:49.031659",
     "status": "completed"
    },
    "tags": []
   },
   "outputs": [
    {
     "name": "stdout",
     "output_type": "stream",
     "text": [
      "[100 100 100   3 100  11  14  13]\n"
     ]
    }
   ],
   "source": [
    "print(b)\n"
   ]
  },
  {
   "cell_type": "code",
   "execution_count": 9,
   "id": "d378d5c9",
   "metadata": {
    "execution": {
     "iopub.execute_input": "2022-06-17T16:28:49.058179Z",
     "iopub.status.busy": "2022-06-17T16:28:49.057645Z",
     "iopub.status.idle": "2022-06-17T16:28:49.062632Z",
     "shell.execute_reply": "2022-06-17T16:28:49.061682Z"
    },
    "papermill": {
     "duration": 0.014167,
     "end_time": "2022-06-17T16:28:49.065350",
     "exception": false,
     "start_time": "2022-06-17T16:28:49.051183",
     "status": "completed"
    },
    "tags": []
   },
   "outputs": [
    {
     "name": "stdout",
     "output_type": "stream",
     "text": [
      "[100 100 100 100]\n"
     ]
    }
   ],
   "source": [
    "print(b[b == 100])"
   ]
  },
  {
   "cell_type": "code",
   "execution_count": 10,
   "id": "0f28230d",
   "metadata": {
    "execution": {
     "iopub.execute_input": "2022-06-17T16:28:49.078099Z",
     "iopub.status.busy": "2022-06-17T16:28:49.077664Z",
     "iopub.status.idle": "2022-06-17T16:28:49.084044Z",
     "shell.execute_reply": "2022-06-17T16:28:49.083179Z"
    },
    "papermill": {
     "duration": 0.014499,
     "end_time": "2022-06-17T16:28:49.085925",
     "exception": false,
     "start_time": "2022-06-17T16:28:49.071426",
     "status": "completed"
    },
    "tags": []
   },
   "outputs": [
    {
     "data": {
      "text/plain": [
       "(array([0, 1, 2, 4]),)"
      ]
     },
     "execution_count": 10,
     "metadata": {},
     "output_type": "execute_result"
    }
   ],
   "source": [
    "ind = np.where(b == 100)\n",
    "ind"
   ]
  },
  {
   "cell_type": "code",
   "execution_count": 11,
   "id": "2cbe52f4",
   "metadata": {
    "execution": {
     "iopub.execute_input": "2022-06-17T16:28:49.098367Z",
     "iopub.status.busy": "2022-06-17T16:28:49.097598Z",
     "iopub.status.idle": "2022-06-17T16:28:49.102676Z",
     "shell.execute_reply": "2022-06-17T16:28:49.101811Z"
    },
    "papermill": {
     "duration": 0.013844,
     "end_time": "2022-06-17T16:28:49.104930",
     "exception": false,
     "start_time": "2022-06-17T16:28:49.091086",
     "status": "completed"
    },
    "tags": []
   },
   "outputs": [
    {
     "name": "stdout",
     "output_type": "stream",
     "text": [
      "['t' 'b' 'r' 'd' 'e' 'f' 'z' 'a']\n",
      "[100 100 100   3 100  11  14  13]\n"
     ]
    }
   ],
   "source": [
    "print(a)\n",
    "print(b)"
   ]
  },
  {
   "cell_type": "code",
   "execution_count": 12,
   "id": "ba8885fa",
   "metadata": {
    "execution": {
     "iopub.execute_input": "2022-06-17T16:28:49.117688Z",
     "iopub.status.busy": "2022-06-17T16:28:49.116868Z",
     "iopub.status.idle": "2022-06-17T16:28:49.123337Z",
     "shell.execute_reply": "2022-06-17T16:28:49.121854Z"
    },
    "papermill": {
     "duration": 0.014889,
     "end_time": "2022-06-17T16:28:49.125291",
     "exception": false,
     "start_time": "2022-06-17T16:28:49.110402",
     "status": "completed"
    },
    "tags": []
   },
   "outputs": [
    {
     "name": "stdout",
     "output_type": "stream",
     "text": [
      "(array([0, 1, 2, 4]),)\n",
      "['t' 'b' 'r' 'e']\n"
     ]
    }
   ],
   "source": [
    "ind = np.where(b == 100)\n",
    "print(ind)\n",
    "print(a[ind])"
   ]
  },
  {
   "cell_type": "code",
   "execution_count": null,
   "id": "7ef45703",
   "metadata": {
    "papermill": {
     "duration": 0.005045,
     "end_time": "2022-06-17T16:28:49.136190",
     "exception": false,
     "start_time": "2022-06-17T16:28:49.131145",
     "status": "completed"
    },
    "tags": []
   },
   "outputs": [],
   "source": []
  }
 ],
 "metadata": {
  "kernelspec": {
   "display_name": "Python 3",
   "language": "python",
   "name": "python3"
  },
  "language_info": {
   "codemirror_mode": {
    "name": "ipython",
    "version": 3
   },
   "file_extension": ".py",
   "mimetype": "text/x-python",
   "name": "python",
   "nbconvert_exporter": "python",
   "pygments_lexer": "ipython3",
   "version": "3.7.12"
  },
  "papermill": {
   "default_parameters": {},
   "duration": 10.51334,
   "end_time": "2022-06-17T16:28:49.761738",
   "environment_variables": {},
   "exception": null,
   "input_path": "__notebook__.ipynb",
   "output_path": "__notebook__.ipynb",
   "parameters": {},
   "start_time": "2022-06-17T16:28:39.248398",
   "version": "2.3.4"
  }
 },
 "nbformat": 4,
 "nbformat_minor": 5
}
