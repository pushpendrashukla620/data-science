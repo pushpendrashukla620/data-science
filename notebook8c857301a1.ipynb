{
 "cells": [
  {
   "cell_type": "code",
   "execution_count": 1,
   "id": "f4c84051",
   "metadata": {
    "execution": {
     "iopub.execute_input": "2022-06-16T08:33:35.735253Z",
     "iopub.status.busy": "2022-06-16T08:33:35.734402Z",
     "iopub.status.idle": "2022-06-16T08:33:35.746768Z",
     "shell.execute_reply": "2022-06-16T08:33:35.745713Z"
    },
    "papermill": {
     "duration": 0.023119,
     "end_time": "2022-06-16T08:33:35.751872",
     "exception": false,
     "start_time": "2022-06-16T08:33:35.728753",
     "status": "completed"
    },
    "tags": []
   },
   "outputs": [
    {
     "name": "stdout",
     "output_type": "stream",
     "text": [
      "[1, 2, 3, 4, 5]\n",
      "[ 5  3  8 13  5]\n",
      "[11 18 13 16 10]\n"
     ]
    }
   ],
   "source": [
    "import numpy as np\n",
    "\n",
    "li = [1, 2, 3, 4, 5]\n",
    "a = np.random.randint(1, 20, 5)\n",
    "b = np.random.randint(1, 20, 5)\n",
    "\n",
    "print(li)\n",
    "print(a)\n",
    "print(b)"
   ]
  },
  {
   "cell_type": "code",
   "execution_count": 2,
   "id": "e871a281",
   "metadata": {
    "execution": {
     "iopub.execute_input": "2022-06-16T08:33:35.760082Z",
     "iopub.status.busy": "2022-06-16T08:33:35.759489Z",
     "iopub.status.idle": "2022-06-16T08:33:35.767347Z",
     "shell.execute_reply": "2022-06-16T08:33:35.766507Z"
    },
    "papermill": {
     "duration": 0.013783,
     "end_time": "2022-06-16T08:33:35.769104",
     "exception": false,
     "start_time": "2022-06-16T08:33:35.755321",
     "status": "completed"
    },
    "tags": []
   },
   "outputs": [
    {
     "data": {
      "text/plain": [
       "[2, 3, 4, 5, 6]"
      ]
     },
     "execution_count": 2,
     "metadata": {},
     "output_type": "execute_result"
    }
   ],
   "source": [
    "li = [i+1 for i in li]\n",
    "li"
   ]
  },
  {
   "cell_type": "code",
   "execution_count": 3,
   "id": "66e5d2fb",
   "metadata": {
    "execution": {
     "iopub.execute_input": "2022-06-16T08:33:35.777185Z",
     "iopub.status.busy": "2022-06-16T08:33:35.776608Z",
     "iopub.status.idle": "2022-06-16T08:33:35.782085Z",
     "shell.execute_reply": "2022-06-16T08:33:35.781285Z"
    },
    "papermill": {
     "duration": 0.011348,
     "end_time": "2022-06-16T08:33:35.783879",
     "exception": false,
     "start_time": "2022-06-16T08:33:35.772531",
     "status": "completed"
    },
    "tags": []
   },
   "outputs": [
    {
     "data": {
      "text/plain": [
       "array([ 6,  4,  9, 14,  6])"
      ]
     },
     "execution_count": 3,
     "metadata": {},
     "output_type": "execute_result"
    }
   ],
   "source": [
    "#increasing each elemnt by 1 using numpy\n",
    "a = a + 1\n",
    "a"
   ]
  },
  {
   "cell_type": "code",
   "execution_count": 4,
   "id": "f366b63f",
   "metadata": {
    "execution": {
     "iopub.execute_input": "2022-06-16T08:33:35.792035Z",
     "iopub.status.busy": "2022-06-16T08:33:35.791452Z",
     "iopub.status.idle": "2022-06-16T08:33:35.797248Z",
     "shell.execute_reply": "2022-06-16T08:33:35.796509Z"
    },
    "papermill": {
     "duration": 0.011754,
     "end_time": "2022-06-16T08:33:35.798943",
     "exception": false,
     "start_time": "2022-06-16T08:33:35.787189",
     "status": "completed"
    },
    "tags": []
   },
   "outputs": [
    {
     "data": {
      "text/plain": [
       "array([17, 22, 22, 30, 16])"
      ]
     },
     "execution_count": 4,
     "metadata": {},
     "output_type": "execute_result"
    }
   ],
   "source": [
    "c = a + b\n",
    "c"
   ]
  },
  {
   "cell_type": "code",
   "execution_count": 5,
   "id": "6adbdc0b",
   "metadata": {
    "execution": {
     "iopub.execute_input": "2022-06-16T08:33:35.807275Z",
     "iopub.status.busy": "2022-06-16T08:33:35.806721Z",
     "iopub.status.idle": "2022-06-16T08:33:35.812367Z",
     "shell.execute_reply": "2022-06-16T08:33:35.811663Z"
    },
    "papermill": {
     "duration": 0.01171,
     "end_time": "2022-06-16T08:33:35.814023",
     "exception": false,
     "start_time": "2022-06-16T08:33:35.802313",
     "status": "completed"
    },
    "tags": []
   },
   "outputs": [
    {
     "data": {
      "text/plain": [
       "array([ -5, -14,  -4,  -2,  -4])"
      ]
     },
     "execution_count": 5,
     "metadata": {},
     "output_type": "execute_result"
    }
   ],
   "source": [
    "d = a - b\n",
    "d"
   ]
  },
  {
   "cell_type": "code",
   "execution_count": 6,
   "id": "90769385",
   "metadata": {
    "execution": {
     "iopub.execute_input": "2022-06-16T08:33:35.822461Z",
     "iopub.status.busy": "2022-06-16T08:33:35.821928Z",
     "iopub.status.idle": "2022-06-16T08:33:35.827551Z",
     "shell.execute_reply": "2022-06-16T08:33:35.826850Z"
    },
    "papermill": {
     "duration": 0.011809,
     "end_time": "2022-06-16T08:33:35.829296",
     "exception": false,
     "start_time": "2022-06-16T08:33:35.817487",
     "status": "completed"
    },
    "tags": []
   },
   "outputs": [
    {
     "data": {
      "text/plain": [
       "array([ 66,  72, 117, 224,  60])"
      ]
     },
     "execution_count": 6,
     "metadata": {},
     "output_type": "execute_result"
    }
   ],
   "source": [
    "e = a * b\n",
    "e"
   ]
  },
  {
   "cell_type": "code",
   "execution_count": 7,
   "id": "62fdf1ec",
   "metadata": {
    "execution": {
     "iopub.execute_input": "2022-06-16T08:33:35.838066Z",
     "iopub.status.busy": "2022-06-16T08:33:35.837540Z",
     "iopub.status.idle": "2022-06-16T08:33:35.843755Z",
     "shell.execute_reply": "2022-06-16T08:33:35.843120Z"
    },
    "papermill": {
     "duration": 0.012612,
     "end_time": "2022-06-16T08:33:35.845454",
     "exception": false,
     "start_time": "2022-06-16T08:33:35.832842",
     "status": "completed"
    },
    "tags": []
   },
   "outputs": [
    {
     "data": {
      "text/plain": [
       "array([0.54545455, 0.22222222, 0.69230769, 0.875     , 0.6       ])"
      ]
     },
     "execution_count": 7,
     "metadata": {},
     "output_type": "execute_result"
    }
   ],
   "source": [
    "f = a / b\n",
    "f"
   ]
  },
  {
   "cell_type": "code",
   "execution_count": 8,
   "id": "266482df",
   "metadata": {
    "execution": {
     "iopub.execute_input": "2022-06-16T08:33:35.854284Z",
     "iopub.status.busy": "2022-06-16T08:33:35.853732Z",
     "iopub.status.idle": "2022-06-16T08:33:35.859499Z",
     "shell.execute_reply": "2022-06-16T08:33:35.858795Z"
    },
    "papermill": {
     "duration": 0.011963,
     "end_time": "2022-06-16T08:33:35.861075",
     "exception": false,
     "start_time": "2022-06-16T08:33:35.849112",
     "status": "completed"
    },
    "tags": []
   },
   "outputs": [
    {
     "data": {
      "text/plain": [
       "array([0, 0, 0, 0, 0])"
      ]
     },
     "execution_count": 8,
     "metadata": {},
     "output_type": "execute_result"
    }
   ],
   "source": [
    "\n",
    "g = a // b\n",
    "g"
   ]
  },
  {
   "cell_type": "code",
   "execution_count": 9,
   "id": "e2f2c700",
   "metadata": {
    "execution": {
     "iopub.execute_input": "2022-06-16T08:33:35.870099Z",
     "iopub.status.busy": "2022-06-16T08:33:35.869382Z",
     "iopub.status.idle": "2022-06-16T08:33:35.874452Z",
     "shell.execute_reply": "2022-06-16T08:33:35.873875Z"
    },
    "papermill": {
     "duration": 0.01132,
     "end_time": "2022-06-16T08:33:35.876060",
     "exception": false,
     "start_time": "2022-06-16T08:33:35.864740",
     "status": "completed"
    },
    "tags": []
   },
   "outputs": [
    {
     "data": {
      "text/plain": [
       "array([          362797056,         68719476736,       2541865828329,\n",
       "       2177953337809371136,            60466176])"
      ]
     },
     "execution_count": 9,
     "metadata": {},
     "output_type": "execute_result"
    }
   ],
   "source": [
    "h = a ** b\n",
    "h"
   ]
  },
  {
   "cell_type": "code",
   "execution_count": 10,
   "id": "f659f6f5",
   "metadata": {
    "execution": {
     "iopub.execute_input": "2022-06-16T08:33:35.885720Z",
     "iopub.status.busy": "2022-06-16T08:33:35.884849Z",
     "iopub.status.idle": "2022-06-16T08:33:35.890973Z",
     "shell.execute_reply": "2022-06-16T08:33:35.889846Z"
    },
    "papermill": {
     "duration": 0.013272,
     "end_time": "2022-06-16T08:33:35.893238",
     "exception": false,
     "start_time": "2022-06-16T08:33:35.879966",
     "status": "completed"
    },
    "tags": []
   },
   "outputs": [
    {
     "name": "stdout",
     "output_type": "stream",
     "text": [
      "[ 6  4  9 14  6]\n",
      "39\n",
      "7.8\n",
      "4\n",
      "1\n",
      "14\n",
      "3\n"
     ]
    }
   ],
   "source": [
    "print(a)\n",
    "# a.sum gives summ of all elements of array\n",
    "print(a.sum())\n",
    "\n",
    "# mean gives average\n",
    "print(a.mean())\n",
    "print(a.min())\n",
    "\n",
    "# argmin() is used to find the index of minimum number\n",
    "print(a.argmin())\n",
    "print(a.max())\n",
    "print(a.argmax())\n"
   ]
  },
  {
   "cell_type": "code",
   "execution_count": 11,
   "id": "b184e51f",
   "metadata": {
    "execution": {
     "iopub.execute_input": "2022-06-16T08:33:35.903355Z",
     "iopub.status.busy": "2022-06-16T08:33:35.902817Z",
     "iopub.status.idle": "2022-06-16T08:33:35.909336Z",
     "shell.execute_reply": "2022-06-16T08:33:35.908073Z"
    },
    "papermill": {
     "duration": 0.013799,
     "end_time": "2022-06-16T08:33:35.911672",
     "exception": false,
     "start_time": "2022-06-16T08:33:35.897873",
     "status": "completed"
    },
    "tags": []
   },
   "outputs": [
    {
     "name": "stdout",
     "output_type": "stream",
     "text": [
      "[ 6  4  9 14  6]\n",
      "[11 18 13 16 10]\n",
      "[ True  True  True  True  True]\n",
      "[ True  True  True  True  True]\n",
      "[ 6  4  0 14  6]\n",
      "[False False  True False False]\n"
     ]
    }
   ],
   "source": [
    "print(a)\n",
    "print(b)\n",
    "a > b\n",
    "a < b\n",
    "a == b\n",
    "\n",
    "# logical_or(and,not) are logical operators \n",
    "\n",
    "print(np.logical_or(a, b))\n",
    "print(np.logical_and(a, b))\n",
    "\n",
    "a[2] = 0\n",
    "print(a)\n",
    "print(np.logical_not(a))"
   ]
  },
  {
   "cell_type": "code",
   "execution_count": null,
   "id": "a4ddb9bd",
   "metadata": {
    "papermill": {
     "duration": 0.00393,
     "end_time": "2022-06-16T08:33:35.920500",
     "exception": false,
     "start_time": "2022-06-16T08:33:35.916570",
     "status": "completed"
    },
    "tags": []
   },
   "outputs": [],
   "source": []
  },
  {
   "cell_type": "code",
   "execution_count": null,
   "id": "46695d0f",
   "metadata": {
    "papermill": {
     "duration": 0.00408,
     "end_time": "2022-06-16T08:33:35.928761",
     "exception": false,
     "start_time": "2022-06-16T08:33:35.924681",
     "status": "completed"
    },
    "tags": []
   },
   "outputs": [],
   "source": []
  }
 ],
 "metadata": {
  "kernelspec": {
   "display_name": "Python 3",
   "language": "python",
   "name": "python3"
  },
  "language_info": {
   "codemirror_mode": {
    "name": "ipython",
    "version": 3
   },
   "file_extension": ".py",
   "mimetype": "text/x-python",
   "name": "python",
   "nbconvert_exporter": "python",
   "pygments_lexer": "ipython3",
   "version": "3.7.12"
  },
  "papermill": {
   "default_parameters": {},
   "duration": 9.275971,
   "end_time": "2022-06-16T08:33:36.561794",
   "environment_variables": {},
   "exception": null,
   "input_path": "__notebook__.ipynb",
   "output_path": "__notebook__.ipynb",
   "parameters": {},
   "start_time": "2022-06-16T08:33:27.285823",
   "version": "2.3.4"
  }
 },
 "nbformat": 4,
 "nbformat_minor": 5
}
