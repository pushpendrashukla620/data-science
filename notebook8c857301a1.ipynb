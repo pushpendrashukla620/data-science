{
 "cells": [
  {
   "cell_type": "code",
   "execution_count": 1,
   "id": "25d91b34",
   "metadata": {
    "execution": {
     "iopub.execute_input": "2022-06-16T08:05:53.776689Z",
     "iopub.status.busy": "2022-06-16T08:05:53.776188Z",
     "iopub.status.idle": "2022-06-16T08:05:53.791197Z",
     "shell.execute_reply": "2022-06-16T08:05:53.790252Z"
    },
    "papermill": {
     "duration": 0.026399,
     "end_time": "2022-06-16T08:05:53.795860",
     "exception": false,
     "start_time": "2022-06-16T08:05:53.769461",
     "status": "completed"
    },
    "tags": []
   },
   "outputs": [
    {
     "name": "stdout",
     "output_type": "stream",
     "text": [
      "[1, 2, 3, 4, 5]\n",
      "[ 3  2 18  1 17]\n",
      "[18  3 11 11  6]\n"
     ]
    }
   ],
   "source": [
    "import numpy as np\n",
    "\n",
    "li = [1, 2, 3, 4, 5]\n",
    "a = np.random.randint(1, 20, 5)\n",
    "b = np.random.randint(1, 20, 5)\n",
    "\n",
    "print(li)\n",
    "print(a)\n",
    "print(b)"
   ]
  },
  {
   "cell_type": "code",
   "execution_count": 2,
   "id": "865ae767",
   "metadata": {
    "execution": {
     "iopub.execute_input": "2022-06-16T08:05:53.806792Z",
     "iopub.status.busy": "2022-06-16T08:05:53.806019Z",
     "iopub.status.idle": "2022-06-16T08:05:53.813853Z",
     "shell.execute_reply": "2022-06-16T08:05:53.813150Z"
    },
    "papermill": {
     "duration": 0.015146,
     "end_time": "2022-06-16T08:05:53.815787",
     "exception": false,
     "start_time": "2022-06-16T08:05:53.800641",
     "status": "completed"
    },
    "tags": []
   },
   "outputs": [
    {
     "data": {
      "text/plain": [
       "[2, 3, 4, 5, 6]"
      ]
     },
     "execution_count": 2,
     "metadata": {},
     "output_type": "execute_result"
    }
   ],
   "source": [
    "li = [i+1 for i in li]\n",
    "li"
   ]
  },
  {
   "cell_type": "code",
   "execution_count": 3,
   "id": "aebb375a",
   "metadata": {
    "execution": {
     "iopub.execute_input": "2022-06-16T08:05:53.826596Z",
     "iopub.status.busy": "2022-06-16T08:05:53.825770Z",
     "iopub.status.idle": "2022-06-16T08:05:53.831142Z",
     "shell.execute_reply": "2022-06-16T08:05:53.830486Z"
    },
    "papermill": {
     "duration": 0.012858,
     "end_time": "2022-06-16T08:05:53.833051",
     "exception": false,
     "start_time": "2022-06-16T08:05:53.820193",
     "status": "completed"
    },
    "tags": []
   },
   "outputs": [
    {
     "data": {
      "text/plain": [
       "array([ 4,  3, 19,  2, 18])"
      ]
     },
     "execution_count": 3,
     "metadata": {},
     "output_type": "execute_result"
    }
   ],
   "source": [
    "#increasing each elemnt by 1 using numpy\n",
    "a = a + 1\n",
    "a"
   ]
  },
  {
   "cell_type": "code",
   "execution_count": 4,
   "id": "0837440f",
   "metadata": {
    "execution": {
     "iopub.execute_input": "2022-06-16T08:05:53.844196Z",
     "iopub.status.busy": "2022-06-16T08:05:53.843672Z",
     "iopub.status.idle": "2022-06-16T08:05:53.849959Z",
     "shell.execute_reply": "2022-06-16T08:05:53.849240Z"
    },
    "papermill": {
     "duration": 0.014192,
     "end_time": "2022-06-16T08:05:53.851943",
     "exception": false,
     "start_time": "2022-06-16T08:05:53.837751",
     "status": "completed"
    },
    "tags": []
   },
   "outputs": [
    {
     "data": {
      "text/plain": [
       "array([22,  6, 30, 13, 24])"
      ]
     },
     "execution_count": 4,
     "metadata": {},
     "output_type": "execute_result"
    }
   ],
   "source": [
    "c = a + b\n",
    "c"
   ]
  },
  {
   "cell_type": "code",
   "execution_count": 5,
   "id": "e3e31a5a",
   "metadata": {
    "execution": {
     "iopub.execute_input": "2022-06-16T08:05:53.863030Z",
     "iopub.status.busy": "2022-06-16T08:05:53.862607Z",
     "iopub.status.idle": "2022-06-16T08:05:53.868742Z",
     "shell.execute_reply": "2022-06-16T08:05:53.867710Z"
    },
    "papermill": {
     "duration": 0.014645,
     "end_time": "2022-06-16T08:05:53.871270",
     "exception": false,
     "start_time": "2022-06-16T08:05:53.856625",
     "status": "completed"
    },
    "tags": []
   },
   "outputs": [
    {
     "data": {
      "text/plain": [
       "array([-14,   0,   8,  -9,  12])"
      ]
     },
     "execution_count": 5,
     "metadata": {},
     "output_type": "execute_result"
    }
   ],
   "source": [
    "d = a - b\n",
    "d"
   ]
  },
  {
   "cell_type": "code",
   "execution_count": 6,
   "id": "a6fbd73e",
   "metadata": {
    "execution": {
     "iopub.execute_input": "2022-06-16T08:05:53.882829Z",
     "iopub.status.busy": "2022-06-16T08:05:53.882172Z",
     "iopub.status.idle": "2022-06-16T08:05:53.888978Z",
     "shell.execute_reply": "2022-06-16T08:05:53.887826Z"
    },
    "papermill": {
     "duration": 0.015155,
     "end_time": "2022-06-16T08:05:53.891237",
     "exception": false,
     "start_time": "2022-06-16T08:05:53.876082",
     "status": "completed"
    },
    "tags": []
   },
   "outputs": [
    {
     "data": {
      "text/plain": [
       "array([ 72,   9, 209,  22, 108])"
      ]
     },
     "execution_count": 6,
     "metadata": {},
     "output_type": "execute_result"
    }
   ],
   "source": [
    "e = a * b\n",
    "e"
   ]
  },
  {
   "cell_type": "code",
   "execution_count": 7,
   "id": "a86b2e9e",
   "metadata": {
    "execution": {
     "iopub.execute_input": "2022-06-16T08:05:53.902467Z",
     "iopub.status.busy": "2022-06-16T08:05:53.902107Z",
     "iopub.status.idle": "2022-06-16T08:05:53.908173Z",
     "shell.execute_reply": "2022-06-16T08:05:53.907116Z"
    },
    "papermill": {
     "duration": 0.014146,
     "end_time": "2022-06-16T08:05:53.910225",
     "exception": false,
     "start_time": "2022-06-16T08:05:53.896079",
     "status": "completed"
    },
    "tags": []
   },
   "outputs": [
    {
     "data": {
      "text/plain": [
       "array([0.22222222, 1.        , 1.72727273, 0.18181818, 3.        ])"
      ]
     },
     "execution_count": 7,
     "metadata": {},
     "output_type": "execute_result"
    }
   ],
   "source": [
    "f = a / b\n",
    "f"
   ]
  },
  {
   "cell_type": "code",
   "execution_count": 8,
   "id": "7c2cbb5e",
   "metadata": {
    "execution": {
     "iopub.execute_input": "2022-06-16T08:05:53.921666Z",
     "iopub.status.busy": "2022-06-16T08:05:53.921251Z",
     "iopub.status.idle": "2022-06-16T08:05:53.927715Z",
     "shell.execute_reply": "2022-06-16T08:05:53.926747Z"
    },
    "papermill": {
     "duration": 0.014601,
     "end_time": "2022-06-16T08:05:53.929839",
     "exception": false,
     "start_time": "2022-06-16T08:05:53.915238",
     "status": "completed"
    },
    "tags": []
   },
   "outputs": [
    {
     "data": {
      "text/plain": [
       "array([0, 1, 1, 0, 3])"
      ]
     },
     "execution_count": 8,
     "metadata": {},
     "output_type": "execute_result"
    }
   ],
   "source": [
    "\n",
    "g = a // b\n",
    "g"
   ]
  },
  {
   "cell_type": "code",
   "execution_count": 9,
   "id": "46dd8eb5",
   "metadata": {
    "execution": {
     "iopub.execute_input": "2022-06-16T08:05:53.942136Z",
     "iopub.status.busy": "2022-06-16T08:05:53.941345Z",
     "iopub.status.idle": "2022-06-16T08:05:53.947512Z",
     "shell.execute_reply": "2022-06-16T08:05:53.946861Z"
    },
    "papermill": {
     "duration": 0.014285,
     "end_time": "2022-06-16T08:05:53.949378",
     "exception": false,
     "start_time": "2022-06-16T08:05:53.935093",
     "status": "completed"
    },
    "tags": []
   },
   "outputs": [
    {
     "data": {
      "text/plain": [
       "array([    68719476736,              27, 116490258898219,            2048,\n",
       "              34012224])"
      ]
     },
     "execution_count": 9,
     "metadata": {},
     "output_type": "execute_result"
    }
   ],
   "source": [
    "h = a ** b\n",
    "h"
   ]
  },
  {
   "cell_type": "code",
   "execution_count": 10,
   "id": "2856078e",
   "metadata": {
    "execution": {
     "iopub.execute_input": "2022-06-16T08:05:53.961845Z",
     "iopub.status.busy": "2022-06-16T08:05:53.960846Z",
     "iopub.status.idle": "2022-06-16T08:05:53.967652Z",
     "shell.execute_reply": "2022-06-16T08:05:53.966768Z"
    },
    "papermill": {
     "duration": 0.016267,
     "end_time": "2022-06-16T08:05:53.970820",
     "exception": false,
     "start_time": "2022-06-16T08:05:53.954553",
     "status": "completed"
    },
    "tags": []
   },
   "outputs": [
    {
     "name": "stdout",
     "output_type": "stream",
     "text": [
      "[ 4  3 19  2 18]\n",
      "46\n",
      "9.2\n",
      "2\n",
      "3\n",
      "19\n",
      "2\n"
     ]
    }
   ],
   "source": [
    "print(a)\n",
    "# a.sum gives summ of all elements of array\n",
    "print(a.sum())\n",
    "\n",
    "# mean gives average\n",
    "print(a.mean())\n",
    "print(a.min())\n",
    "\n",
    "# argmin() is used to find the index of minimum number\n",
    "print(a.argmin())\n",
    "print(a.max())\n",
    "print(a.argmax())\n"
   ]
  },
  {
   "cell_type": "code",
   "execution_count": 11,
   "id": "06f9c451",
   "metadata": {
    "execution": {
     "iopub.execute_input": "2022-06-16T08:05:53.984789Z",
     "iopub.status.busy": "2022-06-16T08:05:53.983816Z",
     "iopub.status.idle": "2022-06-16T08:05:53.992254Z",
     "shell.execute_reply": "2022-06-16T08:05:53.991047Z"
    },
    "papermill": {
     "duration": 0.01793,
     "end_time": "2022-06-16T08:05:53.995177",
     "exception": false,
     "start_time": "2022-06-16T08:05:53.977247",
     "status": "completed"
    },
    "tags": []
   },
   "outputs": [
    {
     "name": "stdout",
     "output_type": "stream",
     "text": [
      "[ 4  3 19  2 18]\n",
      "[18  3 11 11  6]\n",
      "[ True  True  True  True  True]\n",
      "[ True  True  True  True  True]\n",
      "[ 4  3  0  2 18]\n",
      "[False False  True False False]\n"
     ]
    }
   ],
   "source": [
    "print(a)\n",
    "print(b)\n",
    "a > b\n",
    "a < b\n",
    "a == b\n",
    "\n",
    "# logical_or(and,not) are logical operators \n",
    "\n",
    "print(np.logical_or(a, b))\n",
    "print(np.logical_and(a, b))\n",
    "\n",
    "a[2] = 0\n",
    "print(a)\n",
    "print(np.logical_not(a))"
   ]
  },
  {
   "cell_type": "code",
   "execution_count": null,
   "id": "583ff307",
   "metadata": {
    "papermill": {
     "duration": 0.005861,
     "end_time": "2022-06-16T08:05:54.007471",
     "exception": false,
     "start_time": "2022-06-16T08:05:54.001610",
     "status": "completed"
    },
    "tags": []
   },
   "outputs": [],
   "source": []
  }
 ],
 "metadata": {
  "kernelspec": {
   "display_name": "Python 3",
   "language": "python",
   "name": "python3"
  },
  "language_info": {
   "codemirror_mode": {
    "name": "ipython",
    "version": 3
   },
   "file_extension": ".py",
   "mimetype": "text/x-python",
   "name": "python",
   "nbconvert_exporter": "python",
   "pygments_lexer": "ipython3",
   "version": "3.7.12"
  },
  "papermill": {
   "default_parameters": {},
   "duration": 11.101809,
   "end_time": "2022-06-16T08:05:54.635583",
   "environment_variables": {},
   "exception": null,
   "input_path": "__notebook__.ipynb",
   "output_path": "__notebook__.ipynb",
   "parameters": {},
   "start_time": "2022-06-16T08:05:43.533774",
   "version": "2.3.4"
  }
 },
 "nbformat": 4,
 "nbformat_minor": 5
}
