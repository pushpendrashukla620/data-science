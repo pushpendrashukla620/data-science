{
 "cells": [
  {
   "cell_type": "markdown",
   "id": "d5b29bf6",
   "metadata": {
    "papermill": {
     "duration": 0.00392,
     "end_time": "2022-06-14T17:22:58.604006",
     "exception": false,
     "start_time": "2022-06-14T17:22:58.600086",
     "status": "completed"
    },
    "tags": []
   },
   "source": [
    "**Indexing and Slicing**"
   ]
  },
  {
   "cell_type": "code",
   "execution_count": 1,
   "id": "d2f682ac",
   "metadata": {
    "execution": {
     "iopub.execute_input": "2022-06-14T17:22:58.614506Z",
     "iopub.status.busy": "2022-06-14T17:22:58.613904Z",
     "iopub.status.idle": "2022-06-14T17:22:58.630809Z",
     "shell.execute_reply": "2022-06-14T17:22:58.629281Z"
    },
    "papermill": {
     "duration": 0.023648,
     "end_time": "2022-06-14T17:22:58.633096",
     "exception": false,
     "start_time": "2022-06-14T17:22:58.609448",
     "status": "completed"
    },
    "tags": []
   },
   "outputs": [
    {
     "name": "stdout",
     "output_type": "stream",
     "text": [
      "[1, 2, 3, 4, 5]\n",
      "[1 2 3 4 5]\n"
     ]
    }
   ],
   "source": [
    "import numpy as np\n",
    "li=[1,2,3,4,5]\n",
    "arr=np.array(li)\n",
    "print(li)\n",
    "print(arr)"
   ]
  },
  {
   "cell_type": "code",
   "execution_count": 2,
   "id": "8884de65",
   "metadata": {
    "execution": {
     "iopub.execute_input": "2022-06-14T17:22:58.645999Z",
     "iopub.status.busy": "2022-06-14T17:22:58.644992Z",
     "iopub.status.idle": "2022-06-14T17:22:58.651774Z",
     "shell.execute_reply": "2022-06-14T17:22:58.650541Z"
    },
    "papermill": {
     "duration": 0.014588,
     "end_time": "2022-06-14T17:22:58.653775",
     "exception": false,
     "start_time": "2022-06-14T17:22:58.639187",
     "status": "completed"
    },
    "tags": []
   },
   "outputs": [
    {
     "name": "stdout",
     "output_type": "stream",
     "text": [
      "<memory at 0x7f43a6e5de20>\n",
      "(5,)\n",
      "int64\n",
      "(8,)\n"
     ]
    }
   ],
   "source": [
    "print(arr.data)\n",
    "print(arr.shape)\n",
    "print(arr.dtype)\n",
    "print(arr.strides)\n"
   ]
  },
  {
   "cell_type": "code",
   "execution_count": 3,
   "id": "4954d24a",
   "metadata": {
    "execution": {
     "iopub.execute_input": "2022-06-14T17:22:58.665257Z",
     "iopub.status.busy": "2022-06-14T17:22:58.664857Z",
     "iopub.status.idle": "2022-06-14T17:22:58.670763Z",
     "shell.execute_reply": "2022-06-14T17:22:58.670082Z"
    },
    "papermill": {
     "duration": 0.015601,
     "end_time": "2022-06-14T17:22:58.674436",
     "exception": false,
     "start_time": "2022-06-14T17:22:58.658835",
     "status": "completed"
    },
    "tags": []
   },
   "outputs": [
    {
     "name": "stdout",
     "output_type": "stream",
     "text": [
      "[[1, 2, 3], [4, 5, 6], [7, 8, 9], [10, 11, 12]]\n",
      "[[ 1  2  3]\n",
      " [ 4  5  6]\n",
      " [ 7  8  9]\n",
      " [10 11 12]]\n"
     ]
    }
   ],
   "source": [
    "li_2d=[[1,2,3],[4,5,6],[7,8,9],[10,11,12]]\n",
    "print(li_2d)\n",
    "arr=np.array(li_2d)\n",
    "print(arr)"
   ]
  },
  {
   "cell_type": "code",
   "execution_count": 4,
   "id": "6e1a6f35",
   "metadata": {
    "execution": {
     "iopub.execute_input": "2022-06-14T17:22:58.686282Z",
     "iopub.status.busy": "2022-06-14T17:22:58.685860Z",
     "iopub.status.idle": "2022-06-14T17:22:58.690480Z",
     "shell.execute_reply": "2022-06-14T17:22:58.689890Z"
    },
    "papermill": {
     "duration": 0.013718,
     "end_time": "2022-06-14T17:22:58.693391",
     "exception": false,
     "start_time": "2022-06-14T17:22:58.679673",
     "status": "completed"
    },
    "tags": []
   },
   "outputs": [
    {
     "name": "stdout",
     "output_type": "stream",
     "text": [
      "<memory at 0x7f43a652d050>\n",
      "(4, 3)\n",
      "int64\n",
      "(24, 8)\n"
     ]
    }
   ],
   "source": [
    "print(arr.data)\n",
    "print(arr.shape)\n",
    "print(arr.dtype)\n",
    "print(arr.strides)\n"
   ]
  },
  {
   "cell_type": "code",
   "execution_count": 5,
   "id": "ea0f3884",
   "metadata": {
    "execution": {
     "iopub.execute_input": "2022-06-14T17:22:58.705366Z",
     "iopub.status.busy": "2022-06-14T17:22:58.704996Z",
     "iopub.status.idle": "2022-06-14T17:22:58.710456Z",
     "shell.execute_reply": "2022-06-14T17:22:58.708981Z"
    },
    "papermill": {
     "duration": 0.01453,
     "end_time": "2022-06-14T17:22:58.713181",
     "exception": false,
     "start_time": "2022-06-14T17:22:58.698651",
     "status": "completed"
    },
    "tags": []
   },
   "outputs": [
    {
     "name": "stdout",
     "output_type": "stream",
     "text": [
      "6\n",
      "6\n",
      "6\n"
     ]
    }
   ],
   "source": [
    "print(li_2d[1][2])\n",
    "print(arr[1][2])\n",
    "\n",
    "# can also use indexing in this way in numpy\n",
    "print(arr[1,2])"
   ]
  },
  {
   "cell_type": "code",
   "execution_count": 6,
   "id": "77a0590b",
   "metadata": {
    "execution": {
     "iopub.execute_input": "2022-06-14T17:22:58.723050Z",
     "iopub.status.busy": "2022-06-14T17:22:58.722247Z",
     "iopub.status.idle": "2022-06-14T17:22:58.727963Z",
     "shell.execute_reply": "2022-06-14T17:22:58.727053Z"
    },
    "papermill": {
     "duration": 0.012539,
     "end_time": "2022-06-14T17:22:58.730270",
     "exception": false,
     "start_time": "2022-06-14T17:22:58.717731",
     "status": "completed"
    },
    "tags": []
   },
   "outputs": [
    {
     "name": "stdout",
     "output_type": "stream",
     "text": [
      "[4, 5, 6]\n",
      "[4 5 6]\n",
      "[4 5 6]\n"
     ]
    }
   ],
   "source": [
    "print(li_2d[1][:3])\n",
    "print(arr[1][:3])\n",
    "print(arr[1,:3])"
   ]
  },
  {
   "cell_type": "code",
   "execution_count": 7,
   "id": "c0313485",
   "metadata": {
    "execution": {
     "iopub.execute_input": "2022-06-14T17:22:58.738667Z",
     "iopub.status.busy": "2022-06-14T17:22:58.737800Z",
     "iopub.status.idle": "2022-06-14T17:22:58.743553Z",
     "shell.execute_reply": "2022-06-14T17:22:58.742431Z"
    },
    "papermill": {
     "duration": 0.011848,
     "end_time": "2022-06-14T17:22:58.745381",
     "exception": false,
     "start_time": "2022-06-14T17:22:58.733533",
     "status": "completed"
    },
    "tags": []
   },
   "outputs": [
    {
     "name": "stdout",
     "output_type": "stream",
     "text": [
      "[7, 8, 9]\n"
     ]
    }
   ],
   "source": [
    "#fixing column is not allowed in normal list\n",
    "print(li_2d[0:3][2])"
   ]
  },
  {
   "cell_type": "code",
   "execution_count": 8,
   "id": "60f9e7c7",
   "metadata": {
    "execution": {
     "iopub.execute_input": "2022-06-14T17:22:58.754276Z",
     "iopub.status.busy": "2022-06-14T17:22:58.753793Z",
     "iopub.status.idle": "2022-06-14T17:22:58.758968Z",
     "shell.execute_reply": "2022-06-14T17:22:58.757825Z"
    },
    "papermill": {
     "duration": 0.012162,
     "end_time": "2022-06-14T17:22:58.760973",
     "exception": false,
     "start_time": "2022-06-14T17:22:58.748811",
     "status": "completed"
    },
    "tags": []
   },
   "outputs": [
    {
     "name": "stdout",
     "output_type": "stream",
     "text": [
      "[3 6 9]\n"
     ]
    }
   ],
   "source": [
    "# fixing row as well as column is allowed in numpy\n",
    "print(arr[:3,2])"
   ]
  },
  {
   "cell_type": "code",
   "execution_count": 9,
   "id": "34604910",
   "metadata": {
    "execution": {
     "iopub.execute_input": "2022-06-14T17:22:58.769937Z",
     "iopub.status.busy": "2022-06-14T17:22:58.769553Z",
     "iopub.status.idle": "2022-06-14T17:22:58.774758Z",
     "shell.execute_reply": "2022-06-14T17:22:58.773710Z"
    },
    "papermill": {
     "duration": 0.012334,
     "end_time": "2022-06-14T17:22:58.776864",
     "exception": false,
     "start_time": "2022-06-14T17:22:58.764530",
     "status": "completed"
    },
    "tags": []
   },
   "outputs": [
    {
     "name": "stdout",
     "output_type": "stream",
     "text": [
      "[[5 6]\n",
      " [8 9]]\n"
     ]
    }
   ],
   "source": [
    "# this is not posiible in normal list\n",
    "print(arr[1:3,1:3])"
   ]
  },
  {
   "cell_type": "code",
   "execution_count": 10,
   "id": "2f73c7dd",
   "metadata": {
    "execution": {
     "iopub.execute_input": "2022-06-14T17:22:58.785343Z",
     "iopub.status.busy": "2022-06-14T17:22:58.784655Z",
     "iopub.status.idle": "2022-06-14T17:22:58.789399Z",
     "shell.execute_reply": "2022-06-14T17:22:58.788702Z"
    },
    "papermill": {
     "duration": 0.01092,
     "end_time": "2022-06-14T17:22:58.791258",
     "exception": false,
     "start_time": "2022-06-14T17:22:58.780338",
     "status": "completed"
    },
    "tags": []
   },
   "outputs": [
    {
     "name": "stdout",
     "output_type": "stream",
     "text": [
      "[[7, 8, 9]]\n"
     ]
    }
   ],
   "source": [
    "print(li_2d[1:3][1:3])"
   ]
  },
  {
   "cell_type": "code",
   "execution_count": null,
   "id": "ef5c92f1",
   "metadata": {
    "papermill": {
     "duration": 0.003127,
     "end_time": "2022-06-14T17:22:58.797877",
     "exception": false,
     "start_time": "2022-06-14T17:22:58.794750",
     "status": "completed"
    },
    "tags": []
   },
   "outputs": [],
   "source": []
  }
 ],
 "metadata": {
  "kernelspec": {
   "display_name": "Python 3",
   "language": "python",
   "name": "python3"
  },
  "language_info": {
   "codemirror_mode": {
    "name": "ipython",
    "version": 3
   },
   "file_extension": ".py",
   "mimetype": "text/x-python",
   "name": "python",
   "nbconvert_exporter": "python",
   "pygments_lexer": "ipython3",
   "version": "3.7.12"
  },
  "papermill": {
   "default_parameters": {},
   "duration": 9.353208,
   "end_time": "2022-06-14T17:22:59.420684",
   "environment_variables": {},
   "exception": null,
   "input_path": "__notebook__.ipynb",
   "output_path": "__notebook__.ipynb",
   "parameters": {},
   "start_time": "2022-06-14T17:22:50.067476",
   "version": "2.3.4"
  }
 },
 "nbformat": 4,
 "nbformat_minor": 5
}
